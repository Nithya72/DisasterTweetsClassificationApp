{
  "nbformat": 4,
  "nbformat_minor": 0,
  "metadata": {
    "colab": {
      "name": "256_project_Nithya_014608321.ipynb",
      "provenance": [],
      "collapsed_sections": [],
      "toc_visible": true
    },
    "kernelspec": {
      "name": "python3",
      "display_name": "Python 3"
    },
    "accelerator": "TPU"
  },
  "cells": [
    {
      "cell_type": "markdown",
      "metadata": {
        "id": "ztJ8RUnRs5p0",
        "colab_type": "text"
      },
      "source": [
        "#Datasource"
      ]
    },
    {
      "cell_type": "code",
      "metadata": {
        "id": "JTUupByVL6UP",
        "colab_type": "code",
        "colab": {
          "base_uri": "https://localhost:8080/",
          "height": 309
        },
        "outputId": "0ca61ae2-2368-4719-e678-4fb7a35962f5"
      },
      "source": [
        "import pandas as pd\n",
        "\n",
        "from google.colab import drive\n",
        "drive.mount('/content/gdrive')\n",
        "\n",
        "train_data = pd.read_csv('gdrive/My Drive/256_Project/train.csv')\n",
        "test_data = pd.read_csv('gdrive/My Drive/256_Project/test.csv')\n",
        "\n",
        "train_data.head(5)"
      ],
      "execution_count": 5,
      "outputs": [
        {
          "output_type": "stream",
          "text": [
            "Go to this URL in a browser: https://accounts.google.com/o/oauth2/auth?client_id=947318989803-6bn6qk8qdgf4n4g3pfee6491hc0brc4i.apps.googleusercontent.com&redirect_uri=urn%3aietf%3awg%3aoauth%3a2.0%3aoob&response_type=code&scope=email%20https%3a%2f%2fwww.googleapis.com%2fauth%2fdocs.test%20https%3a%2f%2fwww.googleapis.com%2fauth%2fdrive%20https%3a%2f%2fwww.googleapis.com%2fauth%2fdrive.photos.readonly%20https%3a%2f%2fwww.googleapis.com%2fauth%2fpeopleapi.readonly\n",
            "\n",
            "Enter your authorization code:\n",
            "··········\n",
            "Mounted at /content/gdrive\n"
          ],
          "name": "stdout"
        },
        {
          "output_type": "execute_result",
          "data": {
            "text/html": [
              "<div>\n",
              "<style scoped>\n",
              "    .dataframe tbody tr th:only-of-type {\n",
              "        vertical-align: middle;\n",
              "    }\n",
              "\n",
              "    .dataframe tbody tr th {\n",
              "        vertical-align: top;\n",
              "    }\n",
              "\n",
              "    .dataframe thead th {\n",
              "        text-align: right;\n",
              "    }\n",
              "</style>\n",
              "<table border=\"1\" class=\"dataframe\">\n",
              "  <thead>\n",
              "    <tr style=\"text-align: right;\">\n",
              "      <th></th>\n",
              "      <th>id</th>\n",
              "      <th>keyword</th>\n",
              "      <th>location</th>\n",
              "      <th>text</th>\n",
              "      <th>target</th>\n",
              "    </tr>\n",
              "  </thead>\n",
              "  <tbody>\n",
              "    <tr>\n",
              "      <th>0</th>\n",
              "      <td>1</td>\n",
              "      <td>NaN</td>\n",
              "      <td>NaN</td>\n",
              "      <td>Our Deeds are the Reason of this #earthquake M...</td>\n",
              "      <td>1</td>\n",
              "    </tr>\n",
              "    <tr>\n",
              "      <th>1</th>\n",
              "      <td>4</td>\n",
              "      <td>NaN</td>\n",
              "      <td>NaN</td>\n",
              "      <td>Forest fire near La Ronge Sask. Canada</td>\n",
              "      <td>1</td>\n",
              "    </tr>\n",
              "    <tr>\n",
              "      <th>2</th>\n",
              "      <td>5</td>\n",
              "      <td>NaN</td>\n",
              "      <td>NaN</td>\n",
              "      <td>All residents asked to 'shelter in place' are ...</td>\n",
              "      <td>1</td>\n",
              "    </tr>\n",
              "    <tr>\n",
              "      <th>3</th>\n",
              "      <td>6</td>\n",
              "      <td>NaN</td>\n",
              "      <td>NaN</td>\n",
              "      <td>13,000 people receive #wildfires evacuation or...</td>\n",
              "      <td>1</td>\n",
              "    </tr>\n",
              "    <tr>\n",
              "      <th>4</th>\n",
              "      <td>7</td>\n",
              "      <td>NaN</td>\n",
              "      <td>NaN</td>\n",
              "      <td>Just got sent this photo from Ruby #Alaska as ...</td>\n",
              "      <td>1</td>\n",
              "    </tr>\n",
              "  </tbody>\n",
              "</table>\n",
              "</div>"
            ],
            "text/plain": [
              "   id keyword  ...                                               text target\n",
              "0   1     NaN  ...  Our Deeds are the Reason of this #earthquake M...      1\n",
              "1   4     NaN  ...             Forest fire near La Ronge Sask. Canada      1\n",
              "2   5     NaN  ...  All residents asked to 'shelter in place' are ...      1\n",
              "3   6     NaN  ...  13,000 people receive #wildfires evacuation or...      1\n",
              "4   7     NaN  ...  Just got sent this photo from Ruby #Alaska as ...      1\n",
              "\n",
              "[5 rows x 5 columns]"
            ]
          },
          "metadata": {
            "tags": []
          },
          "execution_count": 5
        }
      ]
    },
    {
      "cell_type": "markdown",
      "metadata": {
        "id": "mVM_d6zpJfA1",
        "colab_type": "text"
      },
      "source": [
        "#Feature Engineering"
      ]
    },
    {
      "cell_type": "code",
      "metadata": {
        "id": "GgEMz9-lVRLP",
        "colab_type": "code",
        "colab": {
          "base_uri": "https://localhost:8080/",
          "height": 204
        },
        "outputId": "07d232a9-cbe6-43fd-8ce9-0b0a8e1f0181"
      },
      "source": [
        "import nltk\n",
        "nltk.download('punkt')\n",
        "nltk.download('stopwords')\n",
        "nltk.download('averaged_perceptron_tagger')\n",
        "nltk.download('wordnet')"
      ],
      "execution_count": 6,
      "outputs": [
        {
          "output_type": "stream",
          "text": [
            "[nltk_data] Downloading package punkt to /root/nltk_data...\n",
            "[nltk_data]   Package punkt is already up-to-date!\n",
            "[nltk_data] Downloading package stopwords to /root/nltk_data...\n",
            "[nltk_data]   Package stopwords is already up-to-date!\n",
            "[nltk_data] Downloading package averaged_perceptron_tagger to\n",
            "[nltk_data]     /root/nltk_data...\n",
            "[nltk_data]   Package averaged_perceptron_tagger is already up-to-\n",
            "[nltk_data]       date!\n",
            "[nltk_data] Downloading package wordnet to /root/nltk_data...\n",
            "[nltk_data]   Package wordnet is already up-to-date!\n"
          ],
          "name": "stdout"
        },
        {
          "output_type": "execute_result",
          "data": {
            "text/plain": [
              "True"
            ]
          },
          "metadata": {
            "tags": []
          },
          "execution_count": 6
        }
      ]
    },
    {
      "cell_type": "markdown",
      "metadata": {
        "id": "VeJABo0ms-3O",
        "colab_type": "text"
      },
      "source": [
        "###No of Words in Tweets"
      ]
    },
    {
      "cell_type": "code",
      "metadata": {
        "id": "I56shB0yTJn6",
        "colab_type": "code",
        "colab": {
          "base_uri": "https://localhost:8080/",
          "height": 255
        },
        "outputId": "e75fe80b-a8ea-450a-91c3-d84f929ff055"
      },
      "source": [
        "import matplotlib.pyplot as plt\n",
        "import seaborn as sns\n",
        "%matplotlib inline\n",
        "import nltk\n",
        "from nltk.tokenize import sent_tokenize, word_tokenize\n",
        "from nltk.tokenize import RegexpTokenizer\n",
        "import re\n",
        "from textblob import TextBlob\n",
        "from wordcloud import WordCloud, STOPWORDS\n",
        "import numpy as np \n",
        "from sklearn.feature_extraction.text import ENGLISH_STOP_WORDS\n",
        "from wordcloud import WordCloud\n",
        "from string import punctuation\n",
        "import pickle\n",
        "\n",
        "print(\"\\n Word Counts in Tweets \\n\")\n",
        "train_data['tweet_length']= train_data['text'].apply(lambda x: len(x.split()))\n",
        "\n",
        "\n",
        "train_data.head(5)"
      ],
      "execution_count": 7,
      "outputs": [
        {
          "output_type": "stream",
          "text": [
            "\n",
            " Word Counts in Tweets \n",
            "\n"
          ],
          "name": "stdout"
        },
        {
          "output_type": "execute_result",
          "data": {
            "text/html": [
              "<div>\n",
              "<style scoped>\n",
              "    .dataframe tbody tr th:only-of-type {\n",
              "        vertical-align: middle;\n",
              "    }\n",
              "\n",
              "    .dataframe tbody tr th {\n",
              "        vertical-align: top;\n",
              "    }\n",
              "\n",
              "    .dataframe thead th {\n",
              "        text-align: right;\n",
              "    }\n",
              "</style>\n",
              "<table border=\"1\" class=\"dataframe\">\n",
              "  <thead>\n",
              "    <tr style=\"text-align: right;\">\n",
              "      <th></th>\n",
              "      <th>id</th>\n",
              "      <th>keyword</th>\n",
              "      <th>location</th>\n",
              "      <th>text</th>\n",
              "      <th>target</th>\n",
              "      <th>tweet_length</th>\n",
              "    </tr>\n",
              "  </thead>\n",
              "  <tbody>\n",
              "    <tr>\n",
              "      <th>0</th>\n",
              "      <td>1</td>\n",
              "      <td>NaN</td>\n",
              "      <td>NaN</td>\n",
              "      <td>Our Deeds are the Reason of this #earthquake M...</td>\n",
              "      <td>1</td>\n",
              "      <td>13</td>\n",
              "    </tr>\n",
              "    <tr>\n",
              "      <th>1</th>\n",
              "      <td>4</td>\n",
              "      <td>NaN</td>\n",
              "      <td>NaN</td>\n",
              "      <td>Forest fire near La Ronge Sask. Canada</td>\n",
              "      <td>1</td>\n",
              "      <td>7</td>\n",
              "    </tr>\n",
              "    <tr>\n",
              "      <th>2</th>\n",
              "      <td>5</td>\n",
              "      <td>NaN</td>\n",
              "      <td>NaN</td>\n",
              "      <td>All residents asked to 'shelter in place' are ...</td>\n",
              "      <td>1</td>\n",
              "      <td>22</td>\n",
              "    </tr>\n",
              "    <tr>\n",
              "      <th>3</th>\n",
              "      <td>6</td>\n",
              "      <td>NaN</td>\n",
              "      <td>NaN</td>\n",
              "      <td>13,000 people receive #wildfires evacuation or...</td>\n",
              "      <td>1</td>\n",
              "      <td>8</td>\n",
              "    </tr>\n",
              "    <tr>\n",
              "      <th>4</th>\n",
              "      <td>7</td>\n",
              "      <td>NaN</td>\n",
              "      <td>NaN</td>\n",
              "      <td>Just got sent this photo from Ruby #Alaska as ...</td>\n",
              "      <td>1</td>\n",
              "      <td>16</td>\n",
              "    </tr>\n",
              "  </tbody>\n",
              "</table>\n",
              "</div>"
            ],
            "text/plain": [
              "   id keyword  ... target tweet_length\n",
              "0   1     NaN  ...      1           13\n",
              "1   4     NaN  ...      1            7\n",
              "2   5     NaN  ...      1           22\n",
              "3   6     NaN  ...      1            8\n",
              "4   7     NaN  ...      1           16\n",
              "\n",
              "[5 rows x 6 columns]"
            ]
          },
          "metadata": {
            "tags": []
          },
          "execution_count": 7
        }
      ]
    },
    {
      "cell_type": "markdown",
      "metadata": {
        "id": "Xaeddk0btEu6",
        "colab_type": "text"
      },
      "source": [
        "###No of Sentences in Tweets"
      ]
    },
    {
      "cell_type": "code",
      "metadata": {
        "id": "nuLpAcZFTJrm",
        "colab_type": "code",
        "colab": {
          "base_uri": "https://localhost:8080/",
          "height": 255
        },
        "outputId": "dc026451-ed92-4bc1-9f47-1895c2a46afe"
      },
      "source": [
        "print(\"\\n Sentence Counts in Tweets \\n\")\n",
        "train_data['sent_count'] = train_data['text'].apply(lambda x : len(sent_tokenize(x))) \n",
        "\n",
        "train_data.head(5)"
      ],
      "execution_count": 8,
      "outputs": [
        {
          "output_type": "stream",
          "text": [
            "\n",
            " Sentence Counts in Tweets \n",
            "\n"
          ],
          "name": "stdout"
        },
        {
          "output_type": "execute_result",
          "data": {
            "text/html": [
              "<div>\n",
              "<style scoped>\n",
              "    .dataframe tbody tr th:only-of-type {\n",
              "        vertical-align: middle;\n",
              "    }\n",
              "\n",
              "    .dataframe tbody tr th {\n",
              "        vertical-align: top;\n",
              "    }\n",
              "\n",
              "    .dataframe thead th {\n",
              "        text-align: right;\n",
              "    }\n",
              "</style>\n",
              "<table border=\"1\" class=\"dataframe\">\n",
              "  <thead>\n",
              "    <tr style=\"text-align: right;\">\n",
              "      <th></th>\n",
              "      <th>id</th>\n",
              "      <th>keyword</th>\n",
              "      <th>location</th>\n",
              "      <th>text</th>\n",
              "      <th>target</th>\n",
              "      <th>tweet_length</th>\n",
              "      <th>sent_count</th>\n",
              "    </tr>\n",
              "  </thead>\n",
              "  <tbody>\n",
              "    <tr>\n",
              "      <th>0</th>\n",
              "      <td>1</td>\n",
              "      <td>NaN</td>\n",
              "      <td>NaN</td>\n",
              "      <td>Our Deeds are the Reason of this #earthquake M...</td>\n",
              "      <td>1</td>\n",
              "      <td>13</td>\n",
              "      <td>1</td>\n",
              "    </tr>\n",
              "    <tr>\n",
              "      <th>1</th>\n",
              "      <td>4</td>\n",
              "      <td>NaN</td>\n",
              "      <td>NaN</td>\n",
              "      <td>Forest fire near La Ronge Sask. Canada</td>\n",
              "      <td>1</td>\n",
              "      <td>7</td>\n",
              "      <td>2</td>\n",
              "    </tr>\n",
              "    <tr>\n",
              "      <th>2</th>\n",
              "      <td>5</td>\n",
              "      <td>NaN</td>\n",
              "      <td>NaN</td>\n",
              "      <td>All residents asked to 'shelter in place' are ...</td>\n",
              "      <td>1</td>\n",
              "      <td>22</td>\n",
              "      <td>2</td>\n",
              "    </tr>\n",
              "    <tr>\n",
              "      <th>3</th>\n",
              "      <td>6</td>\n",
              "      <td>NaN</td>\n",
              "      <td>NaN</td>\n",
              "      <td>13,000 people receive #wildfires evacuation or...</td>\n",
              "      <td>1</td>\n",
              "      <td>8</td>\n",
              "      <td>1</td>\n",
              "    </tr>\n",
              "    <tr>\n",
              "      <th>4</th>\n",
              "      <td>7</td>\n",
              "      <td>NaN</td>\n",
              "      <td>NaN</td>\n",
              "      <td>Just got sent this photo from Ruby #Alaska as ...</td>\n",
              "      <td>1</td>\n",
              "      <td>16</td>\n",
              "      <td>1</td>\n",
              "    </tr>\n",
              "  </tbody>\n",
              "</table>\n",
              "</div>"
            ],
            "text/plain": [
              "   id keyword location  ... target  tweet_length  sent_count\n",
              "0   1     NaN      NaN  ...      1            13           1\n",
              "1   4     NaN      NaN  ...      1             7           2\n",
              "2   5     NaN      NaN  ...      1            22           2\n",
              "3   6     NaN      NaN  ...      1             8           1\n",
              "4   7     NaN      NaN  ...      1            16           1\n",
              "\n",
              "[5 rows x 7 columns]"
            ]
          },
          "metadata": {
            "tags": []
          },
          "execution_count": 8
        }
      ]
    },
    {
      "cell_type": "markdown",
      "metadata": {
        "id": "mRqooS1vtIXY",
        "colab_type": "text"
      },
      "source": [
        "###No of Punctuations in Tweets"
      ]
    },
    {
      "cell_type": "code",
      "metadata": {
        "id": "lCGfvugDTJuk",
        "colab_type": "code",
        "colab": {
          "base_uri": "https://localhost:8080/",
          "height": 255
        },
        "outputId": "c8557ccf-d6a9-4849-810a-2407e275d1a3"
      },
      "source": [
        "train_data['punct_count'] = train_data['text'].apply(lambda x : len(word_tokenize(x))-len(x.split())) \n",
        "\n",
        "print(\"\\n Punctuation Counts in Tweets \\n\")\n",
        "train_data.head(5)"
      ],
      "execution_count": 9,
      "outputs": [
        {
          "output_type": "stream",
          "text": [
            "\n",
            " Punctuation Counts in Tweets \n",
            "\n"
          ],
          "name": "stdout"
        },
        {
          "output_type": "execute_result",
          "data": {
            "text/html": [
              "<div>\n",
              "<style scoped>\n",
              "    .dataframe tbody tr th:only-of-type {\n",
              "        vertical-align: middle;\n",
              "    }\n",
              "\n",
              "    .dataframe tbody tr th {\n",
              "        vertical-align: top;\n",
              "    }\n",
              "\n",
              "    .dataframe thead th {\n",
              "        text-align: right;\n",
              "    }\n",
              "</style>\n",
              "<table border=\"1\" class=\"dataframe\">\n",
              "  <thead>\n",
              "    <tr style=\"text-align: right;\">\n",
              "      <th></th>\n",
              "      <th>id</th>\n",
              "      <th>keyword</th>\n",
              "      <th>location</th>\n",
              "      <th>text</th>\n",
              "      <th>target</th>\n",
              "      <th>tweet_length</th>\n",
              "      <th>sent_count</th>\n",
              "      <th>punct_count</th>\n",
              "    </tr>\n",
              "  </thead>\n",
              "  <tbody>\n",
              "    <tr>\n",
              "      <th>0</th>\n",
              "      <td>1</td>\n",
              "      <td>NaN</td>\n",
              "      <td>NaN</td>\n",
              "      <td>Our Deeds are the Reason of this #earthquake M...</td>\n",
              "      <td>1</td>\n",
              "      <td>13</td>\n",
              "      <td>1</td>\n",
              "      <td>1</td>\n",
              "    </tr>\n",
              "    <tr>\n",
              "      <th>1</th>\n",
              "      <td>4</td>\n",
              "      <td>NaN</td>\n",
              "      <td>NaN</td>\n",
              "      <td>Forest fire near La Ronge Sask. Canada</td>\n",
              "      <td>1</td>\n",
              "      <td>7</td>\n",
              "      <td>2</td>\n",
              "      <td>1</td>\n",
              "    </tr>\n",
              "    <tr>\n",
              "      <th>2</th>\n",
              "      <td>5</td>\n",
              "      <td>NaN</td>\n",
              "      <td>NaN</td>\n",
              "      <td>All residents asked to 'shelter in place' are ...</td>\n",
              "      <td>1</td>\n",
              "      <td>22</td>\n",
              "      <td>2</td>\n",
              "      <td>2</td>\n",
              "    </tr>\n",
              "    <tr>\n",
              "      <th>3</th>\n",
              "      <td>6</td>\n",
              "      <td>NaN</td>\n",
              "      <td>NaN</td>\n",
              "      <td>13,000 people receive #wildfires evacuation or...</td>\n",
              "      <td>1</td>\n",
              "      <td>8</td>\n",
              "      <td>1</td>\n",
              "      <td>1</td>\n",
              "    </tr>\n",
              "    <tr>\n",
              "      <th>4</th>\n",
              "      <td>7</td>\n",
              "      <td>NaN</td>\n",
              "      <td>NaN</td>\n",
              "      <td>Just got sent this photo from Ruby #Alaska as ...</td>\n",
              "      <td>1</td>\n",
              "      <td>16</td>\n",
              "      <td>1</td>\n",
              "      <td>2</td>\n",
              "    </tr>\n",
              "  </tbody>\n",
              "</table>\n",
              "</div>"
            ],
            "text/plain": [
              "   id keyword location  ... tweet_length  sent_count  punct_count\n",
              "0   1     NaN      NaN  ...           13           1            1\n",
              "1   4     NaN      NaN  ...            7           2            1\n",
              "2   5     NaN      NaN  ...           22           2            2\n",
              "3   6     NaN      NaN  ...            8           1            1\n",
              "4   7     NaN      NaN  ...           16           1            2\n",
              "\n",
              "[5 rows x 8 columns]"
            ]
          },
          "metadata": {
            "tags": []
          },
          "execution_count": 9
        }
      ]
    },
    {
      "cell_type": "markdown",
      "metadata": {
        "id": "gX80_ZDPtRSo",
        "colab_type": "text"
      },
      "source": [
        "###No of Hashtags in Tweets"
      ]
    },
    {
      "cell_type": "code",
      "metadata": {
        "id": "Zi9ikVcYplil",
        "colab_type": "code",
        "colab": {
          "base_uri": "https://localhost:8080/",
          "height": 255
        },
        "outputId": "e4e3c6bd-c921-4c0c-dc9b-1418119e0e37"
      },
      "source": [
        "train_data['hashtags'] = train_data['text'].apply(lambda x :  word_tokenize(x).count('#'))\n",
        "\n",
        "print(\"\\n Hashtag Counts in Tweets \\n\")\n",
        "train_data.head(5)"
      ],
      "execution_count": 10,
      "outputs": [
        {
          "output_type": "stream",
          "text": [
            "\n",
            " Hashtag Counts in Tweets \n",
            "\n"
          ],
          "name": "stdout"
        },
        {
          "output_type": "execute_result",
          "data": {
            "text/html": [
              "<div>\n",
              "<style scoped>\n",
              "    .dataframe tbody tr th:only-of-type {\n",
              "        vertical-align: middle;\n",
              "    }\n",
              "\n",
              "    .dataframe tbody tr th {\n",
              "        vertical-align: top;\n",
              "    }\n",
              "\n",
              "    .dataframe thead th {\n",
              "        text-align: right;\n",
              "    }\n",
              "</style>\n",
              "<table border=\"1\" class=\"dataframe\">\n",
              "  <thead>\n",
              "    <tr style=\"text-align: right;\">\n",
              "      <th></th>\n",
              "      <th>id</th>\n",
              "      <th>keyword</th>\n",
              "      <th>location</th>\n",
              "      <th>text</th>\n",
              "      <th>target</th>\n",
              "      <th>tweet_length</th>\n",
              "      <th>sent_count</th>\n",
              "      <th>punct_count</th>\n",
              "      <th>hashtags</th>\n",
              "    </tr>\n",
              "  </thead>\n",
              "  <tbody>\n",
              "    <tr>\n",
              "      <th>0</th>\n",
              "      <td>1</td>\n",
              "      <td>NaN</td>\n",
              "      <td>NaN</td>\n",
              "      <td>Our Deeds are the Reason of this #earthquake M...</td>\n",
              "      <td>1</td>\n",
              "      <td>13</td>\n",
              "      <td>1</td>\n",
              "      <td>1</td>\n",
              "      <td>1</td>\n",
              "    </tr>\n",
              "    <tr>\n",
              "      <th>1</th>\n",
              "      <td>4</td>\n",
              "      <td>NaN</td>\n",
              "      <td>NaN</td>\n",
              "      <td>Forest fire near La Ronge Sask. Canada</td>\n",
              "      <td>1</td>\n",
              "      <td>7</td>\n",
              "      <td>2</td>\n",
              "      <td>1</td>\n",
              "      <td>0</td>\n",
              "    </tr>\n",
              "    <tr>\n",
              "      <th>2</th>\n",
              "      <td>5</td>\n",
              "      <td>NaN</td>\n",
              "      <td>NaN</td>\n",
              "      <td>All residents asked to 'shelter in place' are ...</td>\n",
              "      <td>1</td>\n",
              "      <td>22</td>\n",
              "      <td>2</td>\n",
              "      <td>2</td>\n",
              "      <td>0</td>\n",
              "    </tr>\n",
              "    <tr>\n",
              "      <th>3</th>\n",
              "      <td>6</td>\n",
              "      <td>NaN</td>\n",
              "      <td>NaN</td>\n",
              "      <td>13,000 people receive #wildfires evacuation or...</td>\n",
              "      <td>1</td>\n",
              "      <td>8</td>\n",
              "      <td>1</td>\n",
              "      <td>1</td>\n",
              "      <td>1</td>\n",
              "    </tr>\n",
              "    <tr>\n",
              "      <th>4</th>\n",
              "      <td>7</td>\n",
              "      <td>NaN</td>\n",
              "      <td>NaN</td>\n",
              "      <td>Just got sent this photo from Ruby #Alaska as ...</td>\n",
              "      <td>1</td>\n",
              "      <td>16</td>\n",
              "      <td>1</td>\n",
              "      <td>2</td>\n",
              "      <td>2</td>\n",
              "    </tr>\n",
              "  </tbody>\n",
              "</table>\n",
              "</div>"
            ],
            "text/plain": [
              "   id keyword location  ... sent_count  punct_count  hashtags\n",
              "0   1     NaN      NaN  ...          1            1         1\n",
              "1   4     NaN      NaN  ...          2            1         0\n",
              "2   5     NaN      NaN  ...          2            2         0\n",
              "3   6     NaN      NaN  ...          1            1         1\n",
              "4   7     NaN      NaN  ...          1            2         2\n",
              "\n",
              "[5 rows x 9 columns]"
            ]
          },
          "metadata": {
            "tags": []
          },
          "execution_count": 10
        }
      ]
    },
    {
      "cell_type": "markdown",
      "metadata": {
        "id": "PsjAffM9tVyO",
        "colab_type": "text"
      },
      "source": [
        "###Word Count Without Stopwords in Tweets"
      ]
    },
    {
      "cell_type": "code",
      "metadata": {
        "id": "uT8uF5fITJxG",
        "colab_type": "code",
        "colab": {
          "base_uri": "https://localhost:8080/",
          "height": 323
        },
        "outputId": "1aacc3d0-5c22-4db1-e4d6-6f5958751207"
      },
      "source": [
        "from nltk.corpus import stopwords\n",
        "\n",
        "stop_words = set(stopwords.words('english')) \n",
        "tokenizer = RegexpTokenizer(r'\\w+')\n",
        "\n",
        "train_data['text_no_stop'] = train_data['text'].apply(lambda x : len([w for w in tokenizer.tokenize(x) if not w in stop_words]))\n",
        "\n",
        "print(\"\\n Tweets Without Stopwords \\n\")\n",
        "train_data.head(5)"
      ],
      "execution_count": 11,
      "outputs": [
        {
          "output_type": "stream",
          "text": [
            "\n",
            " Tweets Without Stopwords \n",
            "\n"
          ],
          "name": "stdout"
        },
        {
          "output_type": "execute_result",
          "data": {
            "text/html": [
              "<div>\n",
              "<style scoped>\n",
              "    .dataframe tbody tr th:only-of-type {\n",
              "        vertical-align: middle;\n",
              "    }\n",
              "\n",
              "    .dataframe tbody tr th {\n",
              "        vertical-align: top;\n",
              "    }\n",
              "\n",
              "    .dataframe thead th {\n",
              "        text-align: right;\n",
              "    }\n",
              "</style>\n",
              "<table border=\"1\" class=\"dataframe\">\n",
              "  <thead>\n",
              "    <tr style=\"text-align: right;\">\n",
              "      <th></th>\n",
              "      <th>id</th>\n",
              "      <th>keyword</th>\n",
              "      <th>location</th>\n",
              "      <th>text</th>\n",
              "      <th>target</th>\n",
              "      <th>tweet_length</th>\n",
              "      <th>sent_count</th>\n",
              "      <th>punct_count</th>\n",
              "      <th>hashtags</th>\n",
              "      <th>text_no_stop</th>\n",
              "    </tr>\n",
              "  </thead>\n",
              "  <tbody>\n",
              "    <tr>\n",
              "      <th>0</th>\n",
              "      <td>1</td>\n",
              "      <td>NaN</td>\n",
              "      <td>NaN</td>\n",
              "      <td>Our Deeds are the Reason of this #earthquake M...</td>\n",
              "      <td>1</td>\n",
              "      <td>13</td>\n",
              "      <td>1</td>\n",
              "      <td>1</td>\n",
              "      <td>1</td>\n",
              "      <td>8</td>\n",
              "    </tr>\n",
              "    <tr>\n",
              "      <th>1</th>\n",
              "      <td>4</td>\n",
              "      <td>NaN</td>\n",
              "      <td>NaN</td>\n",
              "      <td>Forest fire near La Ronge Sask. Canada</td>\n",
              "      <td>1</td>\n",
              "      <td>7</td>\n",
              "      <td>2</td>\n",
              "      <td>1</td>\n",
              "      <td>0</td>\n",
              "      <td>7</td>\n",
              "    </tr>\n",
              "    <tr>\n",
              "      <th>2</th>\n",
              "      <td>5</td>\n",
              "      <td>NaN</td>\n",
              "      <td>NaN</td>\n",
              "      <td>All residents asked to 'shelter in place' are ...</td>\n",
              "      <td>1</td>\n",
              "      <td>22</td>\n",
              "      <td>2</td>\n",
              "      <td>2</td>\n",
              "      <td>0</td>\n",
              "      <td>13</td>\n",
              "    </tr>\n",
              "    <tr>\n",
              "      <th>3</th>\n",
              "      <td>6</td>\n",
              "      <td>NaN</td>\n",
              "      <td>NaN</td>\n",
              "      <td>13,000 people receive #wildfires evacuation or...</td>\n",
              "      <td>1</td>\n",
              "      <td>8</td>\n",
              "      <td>1</td>\n",
              "      <td>1</td>\n",
              "      <td>1</td>\n",
              "      <td>8</td>\n",
              "    </tr>\n",
              "    <tr>\n",
              "      <th>4</th>\n",
              "      <td>7</td>\n",
              "      <td>NaN</td>\n",
              "      <td>NaN</td>\n",
              "      <td>Just got sent this photo from Ruby #Alaska as ...</td>\n",
              "      <td>1</td>\n",
              "      <td>16</td>\n",
              "      <td>1</td>\n",
              "      <td>2</td>\n",
              "      <td>2</td>\n",
              "      <td>10</td>\n",
              "    </tr>\n",
              "  </tbody>\n",
              "</table>\n",
              "</div>"
            ],
            "text/plain": [
              "   id keyword location  ... punct_count  hashtags  text_no_stop\n",
              "0   1     NaN      NaN  ...           1         1             8\n",
              "1   4     NaN      NaN  ...           1         0             7\n",
              "2   5     NaN      NaN  ...           2         0            13\n",
              "3   6     NaN      NaN  ...           1         1             8\n",
              "4   7     NaN      NaN  ...           2         2            10\n",
              "\n",
              "[5 rows x 10 columns]"
            ]
          },
          "metadata": {
            "tags": []
          },
          "execution_count": 11
        }
      ]
    },
    {
      "cell_type": "markdown",
      "metadata": {
        "id": "_KzzavzNtfBD",
        "colab_type": "text"
      },
      "source": [
        "###Cleaning Tweets"
      ]
    },
    {
      "cell_type": "code",
      "metadata": {
        "id": "kNuGWtZXYGxG",
        "colab_type": "code",
        "colab": {
          "base_uri": "https://localhost:8080/",
          "height": 510
        },
        "outputId": "38ccb849-0529-4d51-db10-42333f37bf6e"
      },
      "source": [
        "def clean_tweets(x):\n",
        "    text = re.sub('https?://[A-Za-z0-9./]+','',x)\n",
        "    text = re.sub(r\"\\n\",\"\",text)\n",
        "    text = text.lower()\n",
        "    text = re.sub(r\"\\d\",\"\",text)        #Remove digits\n",
        "    text = re.sub(r'[^\\x00-\\x7f]',r' ',text) # remove non-ascii\n",
        "    text = re.sub(r'[^\\w\\s]','',text) #Remove punctuation\n",
        "    text = re.sub(r'http\\S+|www.\\S+', '', text) #Remove http\n",
        "    return text\n",
        "\n",
        "train_data['clean_tweet'] = train_data['text'].apply(lambda x: clean_tweets(x))\n",
        "test_data['clean_tweet'] = test_data['text'].apply(lambda x: clean_tweets(x))\n",
        "\n",
        "print(\"\\n Cleaned Tweets \\n\")\n",
        "train_data.head(5)\n"
      ],
      "execution_count": 12,
      "outputs": [
        {
          "output_type": "stream",
          "text": [
            "\n",
            " Cleaned Tweets \n",
            "\n"
          ],
          "name": "stdout"
        },
        {
          "output_type": "execute_result",
          "data": {
            "text/html": [
              "<div>\n",
              "<style scoped>\n",
              "    .dataframe tbody tr th:only-of-type {\n",
              "        vertical-align: middle;\n",
              "    }\n",
              "\n",
              "    .dataframe tbody tr th {\n",
              "        vertical-align: top;\n",
              "    }\n",
              "\n",
              "    .dataframe thead th {\n",
              "        text-align: right;\n",
              "    }\n",
              "</style>\n",
              "<table border=\"1\" class=\"dataframe\">\n",
              "  <thead>\n",
              "    <tr style=\"text-align: right;\">\n",
              "      <th></th>\n",
              "      <th>id</th>\n",
              "      <th>keyword</th>\n",
              "      <th>location</th>\n",
              "      <th>text</th>\n",
              "      <th>target</th>\n",
              "      <th>tweet_length</th>\n",
              "      <th>sent_count</th>\n",
              "      <th>punct_count</th>\n",
              "      <th>hashtags</th>\n",
              "      <th>text_no_stop</th>\n",
              "      <th>clean_tweet</th>\n",
              "    </tr>\n",
              "  </thead>\n",
              "  <tbody>\n",
              "    <tr>\n",
              "      <th>0</th>\n",
              "      <td>1</td>\n",
              "      <td>NaN</td>\n",
              "      <td>NaN</td>\n",
              "      <td>Our Deeds are the Reason of this #earthquake M...</td>\n",
              "      <td>1</td>\n",
              "      <td>13</td>\n",
              "      <td>1</td>\n",
              "      <td>1</td>\n",
              "      <td>1</td>\n",
              "      <td>8</td>\n",
              "      <td>our deeds are the reason of this earthquake ma...</td>\n",
              "    </tr>\n",
              "    <tr>\n",
              "      <th>1</th>\n",
              "      <td>4</td>\n",
              "      <td>NaN</td>\n",
              "      <td>NaN</td>\n",
              "      <td>Forest fire near La Ronge Sask. Canada</td>\n",
              "      <td>1</td>\n",
              "      <td>7</td>\n",
              "      <td>2</td>\n",
              "      <td>1</td>\n",
              "      <td>0</td>\n",
              "      <td>7</td>\n",
              "      <td>forest fire near la ronge sask canada</td>\n",
              "    </tr>\n",
              "    <tr>\n",
              "      <th>2</th>\n",
              "      <td>5</td>\n",
              "      <td>NaN</td>\n",
              "      <td>NaN</td>\n",
              "      <td>All residents asked to 'shelter in place' are ...</td>\n",
              "      <td>1</td>\n",
              "      <td>22</td>\n",
              "      <td>2</td>\n",
              "      <td>2</td>\n",
              "      <td>0</td>\n",
              "      <td>13</td>\n",
              "      <td>all residents asked to shelter in place are be...</td>\n",
              "    </tr>\n",
              "    <tr>\n",
              "      <th>3</th>\n",
              "      <td>6</td>\n",
              "      <td>NaN</td>\n",
              "      <td>NaN</td>\n",
              "      <td>13,000 people receive #wildfires evacuation or...</td>\n",
              "      <td>1</td>\n",
              "      <td>8</td>\n",
              "      <td>1</td>\n",
              "      <td>1</td>\n",
              "      <td>1</td>\n",
              "      <td>8</td>\n",
              "      <td>people receive wildfires evacuation orders in...</td>\n",
              "    </tr>\n",
              "    <tr>\n",
              "      <th>4</th>\n",
              "      <td>7</td>\n",
              "      <td>NaN</td>\n",
              "      <td>NaN</td>\n",
              "      <td>Just got sent this photo from Ruby #Alaska as ...</td>\n",
              "      <td>1</td>\n",
              "      <td>16</td>\n",
              "      <td>1</td>\n",
              "      <td>2</td>\n",
              "      <td>2</td>\n",
              "      <td>10</td>\n",
              "      <td>just got sent this photo from ruby alaska as s...</td>\n",
              "    </tr>\n",
              "  </tbody>\n",
              "</table>\n",
              "</div>"
            ],
            "text/plain": [
              "   id keyword  ... text_no_stop                                        clean_tweet\n",
              "0   1     NaN  ...            8  our deeds are the reason of this earthquake ma...\n",
              "1   4     NaN  ...            7              forest fire near la ronge sask canada\n",
              "2   5     NaN  ...           13  all residents asked to shelter in place are be...\n",
              "3   6     NaN  ...            8   people receive wildfires evacuation orders in...\n",
              "4   7     NaN  ...           10  just got sent this photo from ruby alaska as s...\n",
              "\n",
              "[5 rows x 11 columns]"
            ]
          },
          "metadata": {
            "tags": []
          },
          "execution_count": 12
        }
      ]
    },
    {
      "cell_type": "code",
      "metadata": {
        "id": "sXZ5XwPXZoz4",
        "colab_type": "code",
        "colab": {
          "base_uri": "https://localhost:8080/",
          "height": 207
        },
        "outputId": "d09404fe-b747-43c4-831d-11899a35b6fa"
      },
      "source": [
        "!pip install vaderSentiment"
      ],
      "execution_count": 13,
      "outputs": [
        {
          "output_type": "stream",
          "text": [
            "Collecting vaderSentiment\n",
            "\u001b[?25l  Downloading https://files.pythonhosted.org/packages/76/fc/310e16254683c1ed35eeb97386986d6c00bc29df17ce280aed64d55537e9/vaderSentiment-3.3.2-py2.py3-none-any.whl (125kB)\n",
            "\r\u001b[K     |██▋                             | 10kB 13.5MB/s eta 0:00:01\r\u001b[K     |█████▏                          | 20kB 2.2MB/s eta 0:00:01\r\u001b[K     |███████▉                        | 30kB 2.6MB/s eta 0:00:01\r\u001b[K     |██████████▍                     | 40kB 2.1MB/s eta 0:00:01\r\u001b[K     |█████████████                   | 51kB 2.4MB/s eta 0:00:01\r\u001b[K     |███████████████▋                | 61kB 2.7MB/s eta 0:00:01\r\u001b[K     |██████████████████▏             | 71kB 2.9MB/s eta 0:00:01\r\u001b[K     |████████████████████▉           | 81kB 3.3MB/s eta 0:00:01\r\u001b[K     |███████████████████████▍        | 92kB 3.0MB/s eta 0:00:01\r\u001b[K     |██████████████████████████      | 102kB 3.3MB/s eta 0:00:01\r\u001b[K     |████████████████████████████▋   | 112kB 3.3MB/s eta 0:00:01\r\u001b[K     |███████████████████████████████▏| 122kB 3.3MB/s eta 0:00:01\r\u001b[K     |████████████████████████████████| 133kB 3.3MB/s \n",
            "\u001b[?25hRequirement already satisfied: requests in /usr/local/lib/python3.6/dist-packages (from vaderSentiment) (2.23.0)\n",
            "Requirement already satisfied: certifi>=2017.4.17 in /usr/local/lib/python3.6/dist-packages (from requests->vaderSentiment) (2020.6.20)\n",
            "Requirement already satisfied: chardet<4,>=3.0.2 in /usr/local/lib/python3.6/dist-packages (from requests->vaderSentiment) (3.0.4)\n",
            "Requirement already satisfied: urllib3!=1.25.0,!=1.25.1,<1.26,>=1.21.1 in /usr/local/lib/python3.6/dist-packages (from requests->vaderSentiment) (1.24.3)\n",
            "Requirement already satisfied: idna<3,>=2.5 in /usr/local/lib/python3.6/dist-packages (from requests->vaderSentiment) (2.10)\n",
            "Installing collected packages: vaderSentiment\n",
            "Successfully installed vaderSentiment-3.3.2\n"
          ],
          "name": "stdout"
        }
      ]
    },
    {
      "cell_type": "markdown",
      "metadata": {
        "id": "2ZN7-GlZtiZ8",
        "colab_type": "text"
      },
      "source": [
        "###Polarity Scores for Tweets"
      ]
    },
    {
      "cell_type": "code",
      "metadata": {
        "id": "3ydpwEiqYGzu",
        "colab_type": "code",
        "colab": {
          "base_uri": "https://localhost:8080/",
          "height": 649
        },
        "outputId": "b26ba338-587f-4dd8-9797-4b2c4d5326f6"
      },
      "source": [
        "from vaderSentiment.vaderSentiment import SentimentIntensityAnalyzer\n",
        "\n",
        "sia = SentimentIntensityAnalyzer()\n",
        "\n",
        "train_data['sentiment_score'] = train_data['clean_tweet'].apply(lambda x: sia.polarity_scores(x)['compound'])\n",
        "\n",
        "train_data['sentiment']=\"A\"\n",
        "Condition = [(train_data['sentiment_score']>=0.05),((train_data['sentiment_score'] < 0.05) & (train_data['sentiment_score'] > -0.05 ))]\n",
        "choices = ['Positive','Neutral']\n",
        "train_data['sentiment'] = np.select(Condition,choices,default='Negative')\n",
        "\n",
        "print(\"\\n Sentiment Polarity Scores on Tweets \\n\")\n",
        "train_data.head(5)"
      ],
      "execution_count": 14,
      "outputs": [
        {
          "output_type": "stream",
          "text": [
            "\n",
            " Sentiment Polarity Scores on Tweets \n",
            "\n"
          ],
          "name": "stdout"
        },
        {
          "output_type": "execute_result",
          "data": {
            "text/html": [
              "<div>\n",
              "<style scoped>\n",
              "    .dataframe tbody tr th:only-of-type {\n",
              "        vertical-align: middle;\n",
              "    }\n",
              "\n",
              "    .dataframe tbody tr th {\n",
              "        vertical-align: top;\n",
              "    }\n",
              "\n",
              "    .dataframe thead th {\n",
              "        text-align: right;\n",
              "    }\n",
              "</style>\n",
              "<table border=\"1\" class=\"dataframe\">\n",
              "  <thead>\n",
              "    <tr style=\"text-align: right;\">\n",
              "      <th></th>\n",
              "      <th>id</th>\n",
              "      <th>keyword</th>\n",
              "      <th>location</th>\n",
              "      <th>text</th>\n",
              "      <th>target</th>\n",
              "      <th>tweet_length</th>\n",
              "      <th>sent_count</th>\n",
              "      <th>punct_count</th>\n",
              "      <th>hashtags</th>\n",
              "      <th>text_no_stop</th>\n",
              "      <th>clean_tweet</th>\n",
              "      <th>sentiment_score</th>\n",
              "      <th>sentiment</th>\n",
              "    </tr>\n",
              "  </thead>\n",
              "  <tbody>\n",
              "    <tr>\n",
              "      <th>0</th>\n",
              "      <td>1</td>\n",
              "      <td>NaN</td>\n",
              "      <td>NaN</td>\n",
              "      <td>Our Deeds are the Reason of this #earthquake M...</td>\n",
              "      <td>1</td>\n",
              "      <td>13</td>\n",
              "      <td>1</td>\n",
              "      <td>1</td>\n",
              "      <td>1</td>\n",
              "      <td>8</td>\n",
              "      <td>our deeds are the reason of this earthquake ma...</td>\n",
              "      <td>0.2732</td>\n",
              "      <td>Positive</td>\n",
              "    </tr>\n",
              "    <tr>\n",
              "      <th>1</th>\n",
              "      <td>4</td>\n",
              "      <td>NaN</td>\n",
              "      <td>NaN</td>\n",
              "      <td>Forest fire near La Ronge Sask. Canada</td>\n",
              "      <td>1</td>\n",
              "      <td>7</td>\n",
              "      <td>2</td>\n",
              "      <td>1</td>\n",
              "      <td>0</td>\n",
              "      <td>7</td>\n",
              "      <td>forest fire near la ronge sask canada</td>\n",
              "      <td>-0.3400</td>\n",
              "      <td>Negative</td>\n",
              "    </tr>\n",
              "    <tr>\n",
              "      <th>2</th>\n",
              "      <td>5</td>\n",
              "      <td>NaN</td>\n",
              "      <td>NaN</td>\n",
              "      <td>All residents asked to 'shelter in place' are ...</td>\n",
              "      <td>1</td>\n",
              "      <td>22</td>\n",
              "      <td>2</td>\n",
              "      <td>2</td>\n",
              "      <td>0</td>\n",
              "      <td>13</td>\n",
              "      <td>all residents asked to shelter in place are be...</td>\n",
              "      <td>-0.2960</td>\n",
              "      <td>Negative</td>\n",
              "    </tr>\n",
              "    <tr>\n",
              "      <th>3</th>\n",
              "      <td>6</td>\n",
              "      <td>NaN</td>\n",
              "      <td>NaN</td>\n",
              "      <td>13,000 people receive #wildfires evacuation or...</td>\n",
              "      <td>1</td>\n",
              "      <td>8</td>\n",
              "      <td>1</td>\n",
              "      <td>1</td>\n",
              "      <td>1</td>\n",
              "      <td>8</td>\n",
              "      <td>people receive wildfires evacuation orders in...</td>\n",
              "      <td>0.0000</td>\n",
              "      <td>Neutral</td>\n",
              "    </tr>\n",
              "    <tr>\n",
              "      <th>4</th>\n",
              "      <td>7</td>\n",
              "      <td>NaN</td>\n",
              "      <td>NaN</td>\n",
              "      <td>Just got sent this photo from Ruby #Alaska as ...</td>\n",
              "      <td>1</td>\n",
              "      <td>16</td>\n",
              "      <td>1</td>\n",
              "      <td>2</td>\n",
              "      <td>2</td>\n",
              "      <td>10</td>\n",
              "      <td>just got sent this photo from ruby alaska as s...</td>\n",
              "      <td>0.0000</td>\n",
              "      <td>Neutral</td>\n",
              "    </tr>\n",
              "  </tbody>\n",
              "</table>\n",
              "</div>"
            ],
            "text/plain": [
              "   id keyword  ... sentiment_score sentiment\n",
              "0   1     NaN  ...          0.2732  Positive\n",
              "1   4     NaN  ...         -0.3400  Negative\n",
              "2   5     NaN  ...         -0.2960  Negative\n",
              "3   6     NaN  ...          0.0000   Neutral\n",
              "4   7     NaN  ...          0.0000   Neutral\n",
              "\n",
              "[5 rows x 13 columns]"
            ]
          },
          "metadata": {
            "tags": []
          },
          "execution_count": 14
        }
      ]
    },
    {
      "cell_type": "markdown",
      "metadata": {
        "id": "5iIvGfhFt5Hn",
        "colab_type": "text"
      },
      "source": [
        "#EDA on Tweets"
      ]
    },
    {
      "cell_type": "markdown",
      "metadata": {
        "id": "BgwgBHJ7t8ax",
        "colab_type": "text"
      },
      "source": [
        "### Sent counts, Hastags, Sentiment on Disaster & Non Disaster Tweets"
      ]
    },
    {
      "cell_type": "code",
      "metadata": {
        "id": "y4MDr_j0YG2L",
        "colab_type": "code",
        "colab": {
          "base_uri": "https://localhost:8080/",
          "height": 530
        },
        "outputId": "7cdc898a-efb6-47ad-957c-2fa9856290b2"
      },
      "source": [
        "sns.set(style='darkgrid', rc={\"grid.linewidth\": 0.2})\n",
        "sns.set_context(\"paper\", font_scale=0.9)\n",
        "fig, axes = plt.subplots(nrows=2, ncols=2,figsize=(10,6), dpi=100)\n",
        "\n",
        "sns.countplot(x='target',data=train_data,ax=axes[0][0])\n",
        "sns.countplot(x='sent_count',data=train_data,ax=axes[0][1],hue='target')\n",
        "\n",
        "sns.countplot(x='hashtags',data=train_data,ax=axes[1][0],hue='target')\n",
        "sns.countplot(x='sentiment',data=train_data,ax=axes[1][1],hue ='target') #, palette=\"Set2\"\n",
        "fig.savefig(\"target_hashtag_sentcount_senti.pdf\")"
      ],
      "execution_count": 15,
      "outputs": [
        {
          "output_type": "display_data",
          "data": {
            "image/png": "[encoded data removed]",
            "text/plain": [
              "<Figure size 1000x600 with 4 Axes>"
            ]
          },
          "metadata": {
            "tags": []
          }
        }
      ]
    },
    {
      "cell_type": "markdown",
      "metadata": {
        "id": "eXkXDvnMuZFq",
        "colab_type": "text"
      },
      "source": [
        "###Most Common Words on Disaster & Non Disaster Tweets"
      ]
    },
    {
      "cell_type": "code",
      "metadata": {
        "id": "XiiljWSXeZWl",
        "colab_type": "code",
        "colab": {
          "base_uri": "https://localhost:8080/",
          "height": 285
        },
        "outputId": "a5f1f36f-2db6-4e74-ce56-26b30b74a275"
      },
      "source": [
        "stop = set(stopwords.words('english'))\n",
        "stop = ENGLISH_STOP_WORDS.union(stop) \n",
        "\n",
        "def wc_words(target):\n",
        "    words = [word.lower() for tweet in train_data[train_data.target == target].clean_tweet for word in tweet.split()]\n",
        "    words = list(filter(lambda w: w != 'like', words))\n",
        "    words = list(filter(lambda w: w != 'new', words))\n",
        "    words = list(filter(lambda w: w != 'people', words))\n",
        "    words = list(filter(lambda w: w != 'amp', words))\n",
        "    words = ' '.join(words)\n",
        "    my_cloud = WordCloud(background_color='white', stopwords=stop).generate(words)\n",
        "\n",
        "    fig1 = plt.subplot(1,2,target+1)\n",
        "    plt.imshow(my_cloud, interpolation='bilinear') \n",
        "    plt.axis(\"off\")\n",
        "\n",
        "\n",
        "print(\"\\n Most Common Words in Non-Disaster And Disaster Tweets \\n\")\n",
        "plt.figure(figsize=(15,4))\n",
        "wc_words(0)\n",
        "plt.title('Non-Disaster')\n",
        "wc_words(1)\n",
        "plt.title('Disaster')\n",
        "\n",
        "plt.savefig(\"most_common_words.pdf\")"
      ],
      "execution_count": 16,
      "outputs": [
        {
          "output_type": "stream",
          "text": [
            "\n",
            " Most Common Words in Non-Disaster And Disaster Tweets \n",
            "\n"
          ],
          "name": "stdout"
        },
        {
          "output_type": "display_data",
          "data": {
            "image/png": "[encoded data removed]",
            "text/plain": [
              "<Figure size 1080x288 with 2 Axes>"
            ]
          },
          "metadata": {
            "tags": []
          }
        }
      ]
    },
    {
      "cell_type": "markdown",
      "metadata": {
        "id": "ynl_9ySMudc6",
        "colab_type": "text"
      },
      "source": [
        "###Tweets Length & Punctuations on Disaster & Non Disaster Tweets"
      ]
    },
    {
      "cell_type": "code",
      "metadata": {
        "id": "5rUS0CiztSL3",
        "colab_type": "code",
        "colab": {
          "base_uri": "https://localhost:8080/",
          "height": 272
        },
        "outputId": "466351d0-c86c-49de-afbd-b3be1853c5d0"
      },
      "source": [
        "plot_cols = ['tweet_length','punct_count']\n",
        "plot_titles = ['No of words in tweets', \"No of punctuations\"]\n",
        "\n",
        "plt.figure(figsize=(20,4))\n",
        "for counter, i in enumerate([0,1]):\n",
        "    plt.subplot(1,2, counter+1)\n",
        "    sns.distplot(train_data[train_data.target == 1][plot_cols[i]], label='Disaster', color=\"maroon\").set_title(plot_titles[i])\n",
        "    sns.distplot(train_data[train_data.target == 0][plot_cols[i]], label='Non-Disaster', color=\"teal\")\n",
        "    plt.legend()\n",
        "    plt.savefig(\"tweet_len_punct_count.pdf\")"
      ],
      "execution_count": 17,
      "outputs": [
        {
          "output_type": "display_data",
          "data": {
            "image/png": "[encoded data removed]",
            "text/plain": [
              "<Figure size 1440x288 with 2 Axes>"
            ]
          },
          "metadata": {
            "tags": []
          }
        }
      ]
    },
    {
      "cell_type": "markdown",
      "metadata": {
        "id": "K2ZamO2azdPZ",
        "colab_type": "text"
      },
      "source": [
        "#Scikit Classifiers"
      ]
    },
    {
      "cell_type": "code",
      "metadata": {
        "id": "j7FBP9LrzOdX",
        "colab_type": "code",
        "colab": {}
      },
      "source": [
        "import warnings\n",
        "warnings.filterwarnings('always')\n",
        "warnings.filterwarnings('ignore')\n",
        "\n",
        "tweets_train_clean = train_data['clean_tweet']\n",
        "tweets_test_clean = test_data['clean_tweet']\n"
      ],
      "execution_count": 18,
      "outputs": []
    },
    {
      "cell_type": "markdown",
      "metadata": {
        "id": "ZoWUvRLmvX9S",
        "colab_type": "text"
      },
      "source": [
        "###Stopwords"
      ]
    },
    {
      "cell_type": "code",
      "metadata": {
        "id": "uVX4Ql_LJsYR",
        "colab_type": "code",
        "colab": {}
      },
      "source": [
        "from nltk.corpus import stopwords\n",
        "\n",
        "english_stop_words = stopwords.words('english')\n",
        "def remove_stop_words(corpus):\n",
        "    removed_stop_words = []\n",
        "    for review in corpus:\n",
        "        removed_stop_words.append(\n",
        "            ' '.join([word for word in review.split() \n",
        "                      if word not in english_stop_words])\n",
        "        )\n",
        "    return removed_stop_words\n",
        "\n",
        "no_stop_words_train = remove_stop_words(tweets_train_clean)\n",
        "no_stop_words_test = remove_stop_words(tweets_test_clean)"
      ],
      "execution_count": 19,
      "outputs": []
    },
    {
      "cell_type": "markdown",
      "metadata": {
        "id": "HgAayvntva9Q",
        "colab_type": "text"
      },
      "source": [
        "###Stemming Tweets Data"
      ]
    },
    {
      "cell_type": "code",
      "metadata": {
        "id": "6VXfnyPBJsbH",
        "colab_type": "code",
        "colab": {}
      },
      "source": [
        "def get_stemmed_text(corpus):\n",
        "    from nltk.stem.porter import PorterStemmer\n",
        "    stemmer = PorterStemmer()\n",
        "    return [' '.join([stemmer.stem(word) for word in review.split()]) for review in corpus]\n",
        "\n",
        "stemmed_tweets_train = get_stemmed_text(no_stop_words_train)\n",
        "stemmed_tweets_test = get_stemmed_text(no_stop_words_test)"
      ],
      "execution_count": 20,
      "outputs": []
    },
    {
      "cell_type": "markdown",
      "metadata": {
        "id": "EIzmgHHDvhho",
        "colab_type": "text"
      },
      "source": [
        "###Lemmatizing Tweets Data"
      ]
    },
    {
      "cell_type": "code",
      "metadata": {
        "id": "R0biDcIEJsdi",
        "colab_type": "code",
        "colab": {}
      },
      "source": [
        "def get_lemmatized_text(corpus):\n",
        "    from nltk.stem import WordNetLemmatizer\n",
        "    lemmatizer = WordNetLemmatizer()\n",
        "    return [' '.join([lemmatizer.lemmatize(word) for word in review.split()]) for review in corpus]\n",
        "\n",
        "lemmatized_tweets_train = get_lemmatized_text(stemmed_tweets_train)\n",
        "lemmatized_tweets_test = get_lemmatized_text(stemmed_tweets_test)"
      ],
      "execution_count": 21,
      "outputs": []
    },
    {
      "cell_type": "markdown",
      "metadata": {
        "id": "GiB-PT9Fvlqx",
        "colab_type": "text"
      },
      "source": [
        "###Applying Various Classifiers on Train Data "
      ]
    },
    {
      "cell_type": "code",
      "metadata": {
        "id": "2ij4xG6qJsgH",
        "colab_type": "code",
        "colab": {
          "base_uri": "https://localhost:8080/",
          "height": 867
        },
        "outputId": "11e2dd81-d0e4-4500-fb2b-5d6690d69cd0"
      },
      "source": [
        "from sklearn.feature_extraction.text import CountVectorizer\n",
        "\n",
        "from nltk.classify.scikitlearn import SklearnClassifier\n",
        "from sklearn.naive_bayes import MultinomialNB\n",
        "from sklearn.linear_model import LogisticRegression,SGDClassifier\n",
        "from sklearn.svm import LinearSVC\n",
        "from sklearn.tree import DecisionTreeClassifier\n",
        "from sklearn.neighbors import KNeighborsClassifier\n",
        "from sklearn.ensemble import VotingClassifier, RandomForestClassifier\n",
        "\n",
        "from sklearn.metrics import accuracy_score, classification_report, f1_score, roc_curve, recall_score, precision_score, auc, roc_auc_score\n",
        "from sklearn.model_selection import train_test_split\n",
        "\n",
        "ngram_vectorizer = CountVectorizer(binary=True, ngram_range=(1, 2))\n",
        "ngram_vectorizer.fit(lemmatized_tweets_train)\n",
        "X = ngram_vectorizer.transform(lemmatized_tweets_train)\n",
        "X_test = ngram_vectorizer.transform(lemmatized_tweets_test)\n",
        "\n",
        "X_train, X_val, y_train, y_val = train_test_split(X, train_data['target'], train_size = 0.80)\n",
        "\n",
        "algorithms = ['LogReg', 'MNB', 'DecisionTree', 'KNeighbor', 'RandomForest', 'Ensemble', 'SimpleRNN', 'LSTM']\n",
        "accuracy_scores = []\n",
        "precision_scores = []\n",
        "recall_scores = []\n",
        "f1_scores = []\n",
        "\n",
        "# for c in [0.01, 0.05, 0.25, 0.5, 1]:\n",
        "logreg = LogisticRegression(C=0.25)\n",
        "logreg.fit(X_train, y_train)\n",
        "logreg_report = classification_report(y_val, logreg.predict(X_val))\n",
        "logreg_report1 = classification_report(y_val, logreg.predict(X_val), output_dict=True)\n",
        "print (\"Classification Report of Logistic Regression:\\n\" , logreg_report)\n",
        "accuracy_scores.append(logreg_report1['accuracy'])\n",
        "precision_scores.append(logreg_report1['weighted avg']['precision'])\n",
        "recall_scores.append(logreg_report1['weighted avg']['recall'])\n",
        "f1_scores.append(logreg_report1['weighted avg']['f1-score'])\n",
        "\n",
        "\n",
        "mnb = MultinomialNB()\n",
        "mnb.fit(X_train, y_train)\n",
        "mnb_report = classification_report(y_val, mnb.predict(X_val))\n",
        "mnb_report1 = classification_report(y_val, mnb.predict(X_val), output_dict=True)\n",
        "print (\"Classification Report of MultinomialNB:\\n\" , mnb_report)\n",
        "accuracy_scores.append(mnb_report1['accuracy'])\n",
        "precision_scores.append(mnb_report1['weighted avg']['precision'])\n",
        "recall_scores.append(mnb_report1['weighted avg']['recall'])\n",
        "f1_scores.append(mnb_report1['weighted avg']['f1-score'])\n",
        "\n",
        "\n",
        "decision_tree = DecisionTreeClassifier()\n",
        "decision_tree.fit(X_train, y_train)\n",
        "decision_tree_report = classification_report(y_val, decision_tree.predict(X_val))\n",
        "decision_tree_report1 = classification_report(y_val, decision_tree.predict(X_val), output_dict=True)\n",
        "print (\"Classification Report of Decision Tree:\\n\" , decision_tree_report)\n",
        "accuracy_scores.append(decision_tree_report1['accuracy'])\n",
        "precision_scores.append(decision_tree_report1['weighted avg']['precision'])\n",
        "recall_scores.append(decision_tree_report1['weighted avg']['recall'])\n",
        "f1_scores.append(decision_tree_report1['weighted avg']['f1-score'])\n",
        "\n",
        "\n",
        "kneighbor = KNeighborsClassifier()\n",
        "kneighbor.fit(X_train, y_train)\n",
        "kneighbor_report = classification_report(y_val, kneighbor.predict(X_val))\n",
        "kneighbor_report1 = classification_report(y_val, kneighbor.predict(X_val), output_dict=True)\n",
        "print (\"Classification Report of K Neighbor:\\n\" , kneighbor_report)\n",
        "accuracy_scores.append(kneighbor_report1['accuracy'])\n",
        "precision_scores.append(kneighbor_report1['weighted avg']['precision'])\n",
        "recall_scores.append(kneighbor_report1['weighted avg']['recall'])\n",
        "f1_scores.append(kneighbor_report1['weighted avg']['f1-score'])\n",
        "\n",
        "\n",
        "random_forest = RandomForestClassifier()\n",
        "random_forest.fit(X_train, y_train)\n",
        "random_forest_report = classification_report(y_val, random_forest.predict(X_val))\n",
        "random_forest_report1 = classification_report(y_val, random_forest.predict(X_val), output_dict=True)\n",
        "print (\"Classification Report of Random Forest:\\n\" , random_forest_report)\n",
        "accuracy_scores.append(random_forest_report1['accuracy'])\n",
        "precision_scores.append(random_forest_report1['weighted avg']['precision'])\n",
        "recall_scores.append(random_forest_report1['weighted avg']['recall'])\n",
        "f1_scores.append(random_forest_report1['weighted avg']['f1-score'])"
      ],
      "execution_count": 98,
      "outputs": [
        {
          "output_type": "stream",
          "text": [
            "Classification Report of Logistic Regression:\n",
            "               precision    recall  f1-score   support\n",
            "\n",
            "           0       0.75      0.91      0.82       834\n",
            "           1       0.86      0.63      0.73       689\n",
            "\n",
            "    accuracy                           0.79      1523\n",
            "   macro avg       0.80      0.77      0.78      1523\n",
            "weighted avg       0.80      0.79      0.78      1523\n",
            "\n",
            "Classification Report of MultinomialNB:\n",
            "               precision    recall  f1-score   support\n",
            "\n",
            "           0       0.80      0.83      0.81       834\n",
            "           1       0.78      0.74      0.76       689\n",
            "\n",
            "    accuracy                           0.79      1523\n",
            "   macro avg       0.79      0.79      0.79      1523\n",
            "weighted avg       0.79      0.79      0.79      1523\n",
            "\n",
            "Classification Report of Decision Tree:\n",
            "               precision    recall  f1-score   support\n",
            "\n",
            "           0       0.73      0.84      0.78       834\n",
            "           1       0.76      0.62      0.68       689\n",
            "\n",
            "    accuracy                           0.74      1523\n",
            "   macro avg       0.74      0.73      0.73      1523\n",
            "weighted avg       0.74      0.74      0.74      1523\n",
            "\n",
            "Classification Report of K Neighbor:\n",
            "               precision    recall  f1-score   support\n",
            "\n",
            "           0       0.59      0.96      0.73       834\n",
            "           1       0.81      0.20      0.32       689\n",
            "\n",
            "    accuracy                           0.62      1523\n",
            "   macro avg       0.70      0.58      0.53      1523\n",
            "weighted avg       0.69      0.62      0.55      1523\n",
            "\n",
            "Classification Report of Random Forest:\n",
            "               precision    recall  f1-score   support\n",
            "\n",
            "           0       0.72      0.93      0.81       834\n",
            "           1       0.86      0.57      0.68       689\n",
            "\n",
            "    accuracy                           0.76      1523\n",
            "   macro avg       0.79      0.75      0.75      1523\n",
            "weighted avg       0.79      0.76      0.75      1523\n",
            "\n"
          ],
          "name": "stdout"
        }
      ]
    },
    {
      "cell_type": "markdown",
      "metadata": {
        "id": "-RpAbENNv6yb",
        "colab_type": "text"
      },
      "source": [
        "###Ensemble of Classifiers"
      ]
    },
    {
      "cell_type": "code",
      "metadata": {
        "id": "7h0bhNtMbZtf",
        "colab_type": "code",
        "colab": {
          "base_uri": "https://localhost:8080/",
          "height": 187
        },
        "outputId": "bcff14c6-4df5-40b2-9c21-a22cc499462a"
      },
      "source": [
        "estimators=[('mnb', mnb), ('logreg', logreg), ('decision_tree', decision_tree), ('kneighbor', kneighbor), ('random_forest', random_forest)]\n",
        "ensemble = VotingClassifier(estimators, voting='soft')\n",
        "\n",
        "ensemble.fit(X_train, y_train)\n",
        "ensemble_report = classification_report(y_val, ensemble.predict(X_val))\n",
        "ensemble_report1 = classification_report(y_val, ensemble.predict(X_val), output_dict=True)\n",
        "print (\"Classification Report of Ensemble of Classifier Models:\\n\" , ensemble_report )\n",
        "accuracy_scores.append(ensemble_report1['accuracy'])\n",
        "precision_scores.append(ensemble_report1['weighted avg']['precision'])\n",
        "recall_scores.append(ensemble_report1['weighted avg']['recall'])\n",
        "f1_scores.append(ensemble_report1['weighted avg']['f1-score'])"
      ],
      "execution_count": 99,
      "outputs": [
        {
          "output_type": "stream",
          "text": [
            "Classification Report of Ensemble of Classifier Models:\n",
            "               precision    recall  f1-score   support\n",
            "\n",
            "           0       0.74      0.93      0.82       834\n",
            "           1       0.87      0.61      0.72       689\n",
            "\n",
            "    accuracy                           0.78      1523\n",
            "   macro avg       0.81      0.77      0.77      1523\n",
            "weighted avg       0.80      0.78      0.78      1523\n",
            "\n"
          ],
          "name": "stdout"
        }
      ]
    },
    {
      "cell_type": "code",
      "metadata": {
        "id": "VNXJXg8RSKGn",
        "colab_type": "code",
        "colab": {
          "base_uri": "https://localhost:8080/",
          "height": 105
        },
        "outputId": "17b5b1cc-1c53-4cb7-deef-bf7c6dfb8f4d"
      },
      "source": [
        "print(\"accuracy_scores: \",accuracy_scores)\n",
        "print(\"precision_scores: \",precision_scores)\n",
        "print(\"f1_scores: \",f1_scores)\n",
        "print(\"recall_scores: \",recall_scores)"
      ],
      "execution_count": 100,
      "outputs": [
        {
          "output_type": "stream",
          "text": [
            "accuracy_scores:  [0.7866053841103086, 0.7912015758371634, 0.7399868680236376, 0.6165462902166776, 0.7636244254760342, 0.7839789888378201]\n",
            "precision_scores:  [0.7993845783654294, 0.7909289807768826, 0.7428015310677238, 0.6895227024852124, 0.785572476725664, 0.801326415892425]\n",
            "f1_scores:  [0.7809162185674687, 0.7905664232406959, 0.7359396970286344, 0.5464963735345537, 0.753849655906717, 0.7769242310030868]\n",
            "recall_scores:  [0.7866053841103086, 0.7912015758371634, 0.7399868680236376, 0.6165462902166776, 0.7636244254760342, 0.7839789888378201]\n"
          ],
          "name": "stdout"
        }
      ]
    },
    {
      "cell_type": "markdown",
      "metadata": {
        "id": "G3yftJJov_yD",
        "colab_type": "text"
      },
      "source": [
        "###ROC Curve for Various Classifiers"
      ]
    },
    {
      "cell_type": "code",
      "metadata": {
        "id": "wkuwRGyrHTH5",
        "colab_type": "code",
        "colab": {
          "base_uri": "https://localhost:8080/",
          "height": 351
        },
        "outputId": "2f4afd3c-4ff7-431f-944e-11fc0f321cd2"
      },
      "source": [
        "from sklearn.calibration import CalibratedClassifierCV\n",
        "\n",
        "l_fpr, l_tpr, _ = roc_curve(y_val, logreg.predict_proba(X_val)[:,1])\n",
        "l_auc_score = roc_auc_score(y_val, logreg.predict_proba(X_val)[:,1])\n",
        "\n",
        "m_fpr, m_tpr, _ = roc_curve(y_val, mnb.predict_proba(X_val)[:,1])\n",
        "m_auc_score = roc_auc_score(y_val,mnb.predict_proba(X_val)[:,1])\n",
        "\n",
        "dt_fpr, dt_tpr, _ = roc_curve(y_val, decision_tree.predict_proba(X_val)[:,1])\n",
        "dt_auc_score = roc_auc_score(y_val, decision_tree.predict_proba(X_val)[:,1])\n",
        "\n",
        "kn_fpr, kn_tpr, _ = roc_curve(y_val, kneighbor.predict_proba(X_val)[:,1])\n",
        "kn_auc_score = roc_auc_score(y_val, kneighbor.predict_proba(X_val)[:,1])\n",
        "\n",
        "rf_fpr, rf_tpr, _ = roc_curve(y_val, random_forest.predict_proba(X_val)[:,1])\n",
        "rf_auc_score = roc_auc_score(y_val, random_forest.predict_proba(X_val)[:,1])\n",
        "\n",
        "en_fpr, en_tpr, _ = roc_curve(y_val, ensemble.predict_proba(X_val)[:,1])\n",
        "en_auc_score = roc_auc_score(y_val, ensemble.predict_proba(X_val)[:,1])\n",
        "\n",
        "print(\"\\n ROC Curve \\n\")\n",
        "\n",
        "fig, axs = plt.subplots(2, 3)\n",
        "\n",
        "axs[0,0].set_title('Logistic Regression Classifier')\n",
        "axs[0,0].plot(l_fpr, l_tpr, color='darkorange', lw=2, label='ROC (AUC = %0.2f)' % l_auc_score, marker='.')\n",
        "axs[0,0].plot([0, 1], [0, 1], color='navy', linestyle='--')\n",
        "axs[0,0].legend(loc='lower right')\n",
        "\n",
        "axs[0,1].set_title('Multinomial NB Classifier')\n",
        "axs[0,1].plot(m_fpr, m_tpr, color='darkorange', label='ROC (AUC = %0.2f)' % m_auc_score, marker='.')\n",
        "axs[0,1].plot([0, 1], [0, 1], color='navy', linestyle='--')\n",
        "axs[0,1].legend(loc='lower right')\n",
        "\n",
        "axs[0,2].set_title('KNeighbor Classifier')\n",
        "axs[0,2].plot(kn_fpr, kn_tpr, color='darkorange', label='ROC (AUC = %0.2f)' % kn_auc_score, marker='.')\n",
        "axs[0,2].plot([0, 1], [0, 1], color='navy', linestyle='--')\n",
        "axs[0,2].legend(loc='lower right')\n",
        "\n",
        "axs[1,0].set_title('Random Forest Classifier')\n",
        "axs[1,0].plot(rf_fpr, rf_tpr, color='darkorange', label='ROC (AUC = %0.2f)' % rf_auc_score, marker='.')\n",
        "axs[1,0].plot([0, 1], [0, 1], color='navy', linestyle='--')\n",
        "axs[1,0].legend(loc='lower right')\n",
        "\n",
        "axs[1,1].set_title('Decision Tree Classifier')\n",
        "axs[1,1].plot(dt_fpr, dt_tpr, color='darkorange', label='ROC (AUC = %0.2f)' % dt_auc_score, marker='.')\n",
        "axs[1,1].plot([0, 1], [0, 1], color='navy', linestyle='--')\n",
        "axs[1,1].legend(loc='lower right')\n",
        "\n",
        "axs[1,2].set_title('Ensemble Classifier')\n",
        "axs[1,2].plot(en_fpr, en_tpr, color='darkorange', label='ROC (AUC = %0.2f)' % en_auc_score, marker='.')\n",
        "axs[1,2].plot([0, 1], [0, 1], color='navy', linestyle='--')\n",
        "axs[1,2].legend(loc='lower right')\n",
        "\n",
        "# axs.set_xlabel('False Positive Rate')\n",
        "# axs.set_ylabel('True Positive Rate')\n",
        "plt.legend(loc=\"lower right\")\n",
        "plt.tight_layout()\n",
        "plt.savefig(\"roc_curve.pdf\")\n",
        "plt.show()"
      ],
      "execution_count": 24,
      "outputs": [
        {
          "output_type": "stream",
          "text": [
            "\n",
            " ROC Curve \n",
            "\n"
          ],
          "name": "stdout"
        },
        {
          "output_type": "display_data",
          "data": {
            "image/png": "[encoded data removed]",
            "text/plain": [
              "<Figure size 432x288 with 6 Axes>"
            ]
          },
          "metadata": {
            "tags": []
          }
        }
      ]
    },
    {
      "cell_type": "markdown",
      "metadata": {
        "id": "174lWuclwGxt",
        "colab_type": "text"
      },
      "source": [
        "###Confusion Matrix for Various Classifiers"
      ]
    },
    {
      "cell_type": "code",
      "metadata": {
        "id": "IYJdQ6RqHTLP",
        "colab_type": "code",
        "colab": {
          "base_uri": "https://localhost:8080/",
          "height": 323
        },
        "outputId": "7e2a39dc-1a96-4496-b740-51f520e4e9ae"
      },
      "source": [
        "from sklearn.metrics import confusion_matrix\n",
        "\n",
        "print(\"Confusion Matrix for Logistic Regression: \\n\",confusion_matrix(y_val, logreg.predict(X_val)))\n",
        "print(\"Confusion Matrix for Multinomial NB Classifier: \\n\",confusion_matrix(y_val, mnb.predict(X_val)))\n",
        "print(\"Confusion Matrix for Decision Tree Classifier: \\n\",confusion_matrix(y_val, decision_tree.predict(X_val)))\n",
        "print(\"Confusion Matrix for Random Forest Classifier: \\n\",confusion_matrix(y_val, random_forest.predict(X_val)))\n",
        "print(\"Confusion Matrix for K-Neighbor Classifier: \\n\",confusion_matrix(y_val, kneighbor.predict(X_val)))\n",
        "print(\"Confusion Matrix for Ensemble Classifiers: \\n\",confusion_matrix(y_val, ensemble.predict(X_val)))"
      ],
      "execution_count": 25,
      "outputs": [
        {
          "output_type": "stream",
          "text": [
            "Confusion Matrix for Logistic Regression: \n",
            " [[792  85]\n",
            " [192 454]]\n",
            "Confusion Matrix for Multinomial NB Classifier: \n",
            " [[726 151]\n",
            " [135 511]]\n",
            "Confusion Matrix for Decision Tree Classifier: \n",
            " [[720 157]\n",
            " [186 460]]\n",
            "Confusion Matrix for Random Forest Classifier: \n",
            " [[818  59]\n",
            " [225 421]]\n",
            "Confusion Matrix for K-Neighbor Classifier: \n",
            " [[869   8]\n",
            " [480 166]]\n",
            "Confusion Matrix for Ensemble Classifiers: \n",
            " [[805  72]\n",
            " [198 448]]\n"
          ],
          "name": "stdout"
        }
      ]
    },
    {
      "cell_type": "markdown",
      "metadata": {
        "id": "V3z9aX0IxQwK",
        "colab_type": "text"
      },
      "source": [
        "#Neural Network Models"
      ]
    },
    {
      "cell_type": "code",
      "metadata": {
        "id": "zLsEvNy_wrxS",
        "colab_type": "code",
        "colab": {
          "base_uri": "https://localhost:8080/",
          "height": 853
        },
        "outputId": "bfa1685c-5a6f-4b13-8b53-d5787d9c5b56"
      },
      "source": [
        "import tensorflow as tf\n",
        "print(\"GPU Available: \", tf.test.is_gpu_available())\n",
        "print(\"Tensorflow version: \", tf.__version__)\n",
        "print(\"Keras Version: \", tf.keras.__version__)\n",
        "\n",
        "try:\n",
        "  tpu = tf.distribute.cluster_resolver.TPUClusterResolver()\n",
        "  tf.config.experimental_connect_to_cluster(tpu)\n",
        "  tf.tpu.experimental.initialize_tpu_system(tpu)\n",
        "  strategy = tf.distribute.experimental.TPUStrategy(tpu)\n",
        "except ValueError:\n",
        "  strategy = tf.distribute.get_strategy()\n",
        "\n",
        "print(\"Number of accelerators: \", strategy.num_replicas_in_sync)\n",
        "num_replicas = strategy.num_replicas_in_sync"
      ],
      "execution_count": 26,
      "outputs": [
        {
          "output_type": "stream",
          "text": [
            "WARNING:tensorflow:From <ipython-input-26-9d90fd7a75e2>:2: is_gpu_available (from tensorflow.python.framework.test_util) is deprecated and will be removed in a future version.\n",
            "Instructions for updating:\n",
            "Use `tf.config.list_physical_devices('GPU')` instead.\n",
            "GPU Available:  False\n",
            "Tensorflow version:  2.3.0\n",
            "Keras Version:  2.4.0\n",
            "INFO:tensorflow:Initializing the TPU system: grpc://10.94.45.226:8470\n"
          ],
          "name": "stdout"
        },
        {
          "output_type": "stream",
          "text": [
            "INFO:tensorflow:Initializing the TPU system: grpc://10.94.45.226:8470\n"
          ],
          "name": "stderr"
        },
        {
          "output_type": "stream",
          "text": [
            "INFO:tensorflow:Clearing out eager caches\n"
          ],
          "name": "stdout"
        },
        {
          "output_type": "stream",
          "text": [
            "INFO:tensorflow:Clearing out eager caches\n"
          ],
          "name": "stderr"
        },
        {
          "output_type": "stream",
          "text": [
            "INFO:tensorflow:Finished initializing TPU system.\n"
          ],
          "name": "stdout"
        },
        {
          "output_type": "stream",
          "text": [
            "INFO:tensorflow:Finished initializing TPU system.\n",
            "WARNING:absl:`tf.distribute.experimental.TPUStrategy` is deprecated, please use  the non experimental symbol `tf.distribute.TPUStrategy` instead.\n"
          ],
          "name": "stderr"
        },
        {
          "output_type": "stream",
          "text": [
            "INFO:tensorflow:Found TPU system:\n"
          ],
          "name": "stdout"
        },
        {
          "output_type": "stream",
          "text": [
            "INFO:tensorflow:Found TPU system:\n"
          ],
          "name": "stderr"
        },
        {
          "output_type": "stream",
          "text": [
            "INFO:tensorflow:*** Num TPU Cores: 8\n"
          ],
          "name": "stdout"
        },
        {
          "output_type": "stream",
          "text": [
            "INFO:tensorflow:*** Num TPU Cores: 8\n"
          ],
          "name": "stderr"
        },
        {
          "output_type": "stream",
          "text": [
            "INFO:tensorflow:*** Num TPU Workers: 1\n"
          ],
          "name": "stdout"
        },
        {
          "output_type": "stream",
          "text": [
            "INFO:tensorflow:*** Num TPU Workers: 1\n"
          ],
          "name": "stderr"
        },
        {
          "output_type": "stream",
          "text": [
            "INFO:tensorflow:*** Num TPU Cores Per Worker: 8\n"
          ],
          "name": "stdout"
        },
        {
          "output_type": "stream",
          "text": [
            "INFO:tensorflow:*** Num TPU Cores Per Worker: 8\n"
          ],
          "name": "stderr"
        },
        {
          "output_type": "stream",
          "text": [
            "INFO:tensorflow:*** Available Device: _DeviceAttributes(/job:localhost/replica:0/task:0/device:CPU:0, CPU, 0, 0)\n"
          ],
          "name": "stdout"
        },
        {
          "output_type": "stream",
          "text": [
            "INFO:tensorflow:*** Available Device: _DeviceAttributes(/job:localhost/replica:0/task:0/device:CPU:0, CPU, 0, 0)\n"
          ],
          "name": "stderr"
        },
        {
          "output_type": "stream",
          "text": [
            "INFO:tensorflow:*** Available Device: _DeviceAttributes(/job:localhost/replica:0/task:0/device:XLA_CPU:0, XLA_CPU, 0, 0)\n"
          ],
          "name": "stdout"
        },
        {
          "output_type": "stream",
          "text": [
            "INFO:tensorflow:*** Available Device: _DeviceAttributes(/job:localhost/replica:0/task:0/device:XLA_CPU:0, XLA_CPU, 0, 0)\n"
          ],
          "name": "stderr"
        },
        {
          "output_type": "stream",
          "text": [
            "INFO:tensorflow:*** Available Device: _DeviceAttributes(/job:worker/replica:0/task:0/device:CPU:0, CPU, 0, 0)\n"
          ],
          "name": "stdout"
        },
        {
          "output_type": "stream",
          "text": [
            "INFO:tensorflow:*** Available Device: _DeviceAttributes(/job:worker/replica:0/task:0/device:CPU:0, CPU, 0, 0)\n"
          ],
          "name": "stderr"
        },
        {
          "output_type": "stream",
          "text": [
            "INFO:tensorflow:*** Available Device: _DeviceAttributes(/job:worker/replica:0/task:0/device:TPU:0, TPU, 0, 0)\n"
          ],
          "name": "stdout"
        },
        {
          "output_type": "stream",
          "text": [
            "INFO:tensorflow:*** Available Device: _DeviceAttributes(/job:worker/replica:0/task:0/device:TPU:0, TPU, 0, 0)\n"
          ],
          "name": "stderr"
        },
        {
          "output_type": "stream",
          "text": [
            "INFO:tensorflow:*** Available Device: _DeviceAttributes(/job:worker/replica:0/task:0/device:TPU:1, TPU, 0, 0)\n"
          ],
          "name": "stdout"
        },
        {
          "output_type": "stream",
          "text": [
            "INFO:tensorflow:*** Available Device: _DeviceAttributes(/job:worker/replica:0/task:0/device:TPU:1, TPU, 0, 0)\n"
          ],
          "name": "stderr"
        },
        {
          "output_type": "stream",
          "text": [
            "INFO:tensorflow:*** Available Device: _DeviceAttributes(/job:worker/replica:0/task:0/device:TPU:2, TPU, 0, 0)\n"
          ],
          "name": "stdout"
        },
        {
          "output_type": "stream",
          "text": [
            "INFO:tensorflow:*** Available Device: _DeviceAttributes(/job:worker/replica:0/task:0/device:TPU:2, TPU, 0, 0)\n"
          ],
          "name": "stderr"
        },
        {
          "output_type": "stream",
          "text": [
            "INFO:tensorflow:*** Available Device: _DeviceAttributes(/job:worker/replica:0/task:0/device:TPU:3, TPU, 0, 0)\n"
          ],
          "name": "stdout"
        },
        {
          "output_type": "stream",
          "text": [
            "INFO:tensorflow:*** Available Device: _DeviceAttributes(/job:worker/replica:0/task:0/device:TPU:3, TPU, 0, 0)\n"
          ],
          "name": "stderr"
        },
        {
          "output_type": "stream",
          "text": [
            "INFO:tensorflow:*** Available Device: _DeviceAttributes(/job:worker/replica:0/task:0/device:TPU:4, TPU, 0, 0)\n"
          ],
          "name": "stdout"
        },
        {
          "output_type": "stream",
          "text": [
            "INFO:tensorflow:*** Available Device: _DeviceAttributes(/job:worker/replica:0/task:0/device:TPU:4, TPU, 0, 0)\n"
          ],
          "name": "stderr"
        },
        {
          "output_type": "stream",
          "text": [
            "INFO:tensorflow:*** Available Device: _DeviceAttributes(/job:worker/replica:0/task:0/device:TPU:5, TPU, 0, 0)\n"
          ],
          "name": "stdout"
        },
        {
          "output_type": "stream",
          "text": [
            "INFO:tensorflow:*** Available Device: _DeviceAttributes(/job:worker/replica:0/task:0/device:TPU:5, TPU, 0, 0)\n"
          ],
          "name": "stderr"
        },
        {
          "output_type": "stream",
          "text": [
            "INFO:tensorflow:*** Available Device: _DeviceAttributes(/job:worker/replica:0/task:0/device:TPU:6, TPU, 0, 0)\n"
          ],
          "name": "stdout"
        },
        {
          "output_type": "stream",
          "text": [
            "INFO:tensorflow:*** Available Device: _DeviceAttributes(/job:worker/replica:0/task:0/device:TPU:6, TPU, 0, 0)\n"
          ],
          "name": "stderr"
        },
        {
          "output_type": "stream",
          "text": [
            "INFO:tensorflow:*** Available Device: _DeviceAttributes(/job:worker/replica:0/task:0/device:TPU:7, TPU, 0, 0)\n"
          ],
          "name": "stdout"
        },
        {
          "output_type": "stream",
          "text": [
            "INFO:tensorflow:*** Available Device: _DeviceAttributes(/job:worker/replica:0/task:0/device:TPU:7, TPU, 0, 0)\n"
          ],
          "name": "stderr"
        },
        {
          "output_type": "stream",
          "text": [
            "INFO:tensorflow:*** Available Device: _DeviceAttributes(/job:worker/replica:0/task:0/device:TPU_SYSTEM:0, TPU_SYSTEM, 0, 0)\n"
          ],
          "name": "stdout"
        },
        {
          "output_type": "stream",
          "text": [
            "INFO:tensorflow:*** Available Device: _DeviceAttributes(/job:worker/replica:0/task:0/device:TPU_SYSTEM:0, TPU_SYSTEM, 0, 0)\n"
          ],
          "name": "stderr"
        },
        {
          "output_type": "stream",
          "text": [
            "INFO:tensorflow:*** Available Device: _DeviceAttributes(/job:worker/replica:0/task:0/device:XLA_CPU:0, XLA_CPU, 0, 0)\n"
          ],
          "name": "stdout"
        },
        {
          "output_type": "stream",
          "text": [
            "INFO:tensorflow:*** Available Device: _DeviceAttributes(/job:worker/replica:0/task:0/device:XLA_CPU:0, XLA_CPU, 0, 0)\n"
          ],
          "name": "stderr"
        },
        {
          "output_type": "stream",
          "text": [
            "Number of accelerators:  8\n"
          ],
          "name": "stdout"
        }
      ]
    },
    {
      "cell_type": "code",
      "metadata": {
        "id": "HlUmLcFFcgUz",
        "colab_type": "code",
        "colab": {}
      },
      "source": [
        "# import pandas as pd\n",
        "\n",
        "# from google.colab import drive\n",
        "# drive.mount('/content/gdrive')\n",
        "\n",
        "# train_data = pd.read_csv('gdrive/My Drive/256_Project/train.csv')\n",
        "# test_data = pd.read_csv('gdrive/My Drive/256_Project/test.csv')\n",
        "\n",
        "# train_data.head(5)"
      ],
      "execution_count": 27,
      "outputs": []
    },
    {
      "cell_type": "markdown",
      "metadata": {
        "id": "Dk_amA96xNZe",
        "colab_type": "text"
      },
      "source": [
        "###GloVe Embeddings"
      ]
    },
    {
      "cell_type": "code",
      "metadata": {
        "id": "MvipuQuScvrk",
        "colab_type": "code",
        "colab": {
          "base_uri": "https://localhost:8080/",
          "height": 51
        },
        "outputId": "77eef38f-2e2e-47db-c74b-58a0e16c9cea"
      },
      "source": [
        "# load the GloVe vectors in a dictionary:\n",
        "from tqdm import tqdm\n",
        "import numpy as np\n",
        "\n",
        "embeddings_index = {}\n",
        "f = open('gdrive/My Drive/256_Project/gloVe/glove.840B.300d.txt','r',encoding='utf-8')\n",
        "for line in tqdm(f):\n",
        "    values = line.split(' ')\n",
        "    word = values[0]\n",
        "    coefs = np.asarray([float(val) for val in values[1:]])\n",
        "    embeddings_index[word] = coefs\n",
        "f.close()\n",
        "\n",
        "print('Found %s word vectors.' % len(embeddings_index))"
      ],
      "execution_count": 28,
      "outputs": [
        {
          "output_type": "stream",
          "text": [
            "2196017it [04:46, 7664.34it/s]"
          ],
          "name": "stderr"
        },
        {
          "output_type": "stream",
          "text": [
            "Found 2196016 word vectors.\n"
          ],
          "name": "stdout"
        },
        {
          "output_type": "stream",
          "text": [
            "\n"
          ],
          "name": "stderr"
        }
      ]
    },
    {
      "cell_type": "markdown",
      "metadata": {
        "id": "h3YIjnFXxec_",
        "colab_type": "text"
      },
      "source": [
        "###Train-Test Data Split"
      ]
    },
    {
      "cell_type": "code",
      "metadata": {
        "id": "Jx3d9kwHc91_",
        "colab_type": "code",
        "colab": {}
      },
      "source": [
        "from sklearn.model_selection import train_test_split\n",
        "\n",
        "x_train, x_valid, y_train, y_valid = train_test_split(train_data['text'].values, train_data['target'].values, \n",
        "                                                  stratify=train_data['target'].values, \n",
        "                                                  random_state=42, \n",
        "                                                  test_size=0.2, shuffle=True)"
      ],
      "execution_count": 29,
      "outputs": []
    },
    {
      "cell_type": "markdown",
      "metadata": {
        "id": "ahiM1846xk4g",
        "colab_type": "text"
      },
      "source": [
        "###Tokenizing Words on Tweets"
      ]
    },
    {
      "cell_type": "code",
      "metadata": {
        "id": "ptwrVQJAcyj7",
        "colab_type": "code",
        "colab": {}
      },
      "source": [
        "from keras.preprocessing import sequence, text\n",
        "\n",
        "rnn_token = text.Tokenizer(num_words=None, filters='!\"#$%&()*+,-./:;<=>?@[\\]^_`{|}~', lower=True)\n",
        "max_len = 1500\n",
        "\n",
        "\n",
        "rnn_token.fit_on_texts(list(x_train) + list(x_valid))\n",
        "x_train_seq = rnn_token.texts_to_sequences(x_train)\n",
        "x_valid_seq = rnn_token.texts_to_sequences(x_valid)\n",
        "\n",
        "#zero pad the sequences\n",
        "x_train_pad = sequence.pad_sequences(x_train_seq, maxlen=max_len)\n",
        "x_valid_pad = sequence.pad_sequences(x_valid_seq, maxlen=max_len)\n",
        "\n",
        "rnn_word_index = rnn_token.word_index"
      ],
      "execution_count": 30,
      "outputs": []
    },
    {
      "cell_type": "code",
      "metadata": {
        "id": "xyDz0zcfdUYR",
        "colab_type": "code",
        "colab": {
          "base_uri": "https://localhost:8080/",
          "height": 34
        },
        "outputId": "1f4d3443-ecfa-47c1-939d-ac7cb6fa6254"
      },
      "source": [
        "rnn_embedding_matrix = np.zeros((len(rnn_word_index) + 1, 300))\n",
        "for word, i in tqdm(rnn_word_index.items()):\n",
        "    embedding_vector = embeddings_index.get(word)\n",
        "    if embedding_vector is not None:\n",
        "        rnn_embedding_matrix[i] = embedding_vector"
      ],
      "execution_count": 31,
      "outputs": [
        {
          "output_type": "stream",
          "text": [
            "100%|██████████| 23060/23060 [00:00<00:00, 384036.13it/s]\n"
          ],
          "name": "stderr"
        }
      ]
    },
    {
      "cell_type": "markdown",
      "metadata": {
        "id": "q-2LEKYvxsk0",
        "colab_type": "text"
      },
      "source": [
        "###Training - SimpleRNN"
      ]
    },
    {
      "cell_type": "code",
      "metadata": {
        "id": "rDhB3R0SdVA5",
        "colab_type": "code",
        "colab": {}
      },
      "source": [
        "import keras\n",
        "from keras.layers import SimpleRNN, Embedding, Dense\n",
        "from keras import optimizers\n",
        "from keras.optimizers import SGD\n",
        "\n",
        "def build_simpleRNN_model():\n",
        "  model = keras.Sequential()\n",
        "  model.add(Embedding(len(rnn_word_index)+1, 300, weights=[rnn_embedding_matrix], input_length=max_len))\n",
        "  model.add(SimpleRNN(128))\n",
        "  model.add(Dense(1, activation=tf.nn.sigmoid))\n",
        "\n",
        "  sgd = optimizers.SGD(lr=0.0003, decay=1e-6, momentum=0.9, nesterov=True)\n",
        "  model.compile(loss='binary_crossentropy', optimizer=sgd, metrics=['accuracy'])\n",
        "  return model"
      ],
      "execution_count": 54,
      "outputs": []
    },
    {
      "cell_type": "code",
      "metadata": {
        "id": "zNzv5LHxdXqX",
        "colab_type": "code",
        "colab": {
          "base_uri": "https://localhost:8080/",
          "height": 255
        },
        "outputId": "1d712e75-9d4b-4fb2-e603-370c77c5cb23"
      },
      "source": [
        "simpleRNN_model = build_simpleRNN_model()\n",
        "simpleRNN_model.summary()"
      ],
      "execution_count": 55,
      "outputs": [
        {
          "output_type": "stream",
          "text": [
            "Model: \"sequential_3\"\n",
            "_________________________________________________________________\n",
            "Layer (type)                 Output Shape              Param #   \n",
            "=================================================================\n",
            "embedding_3 (Embedding)      (None, 1500, 300)         6918300   \n",
            "_________________________________________________________________\n",
            "simple_rnn_3 (SimpleRNN)     (None, 128)               54912     \n",
            "_________________________________________________________________\n",
            "dense_3 (Dense)              (None, 1)                 129       \n",
            "=================================================================\n",
            "Total params: 6,973,341\n",
            "Trainable params: 6,973,341\n",
            "Non-trainable params: 0\n",
            "_________________________________________________________________\n"
          ],
          "name": "stdout"
        }
      ]
    },
    {
      "cell_type": "code",
      "metadata": {
        "id": "GrH5UVPinhzQ",
        "colab_type": "code",
        "colab": {
          "base_uri": "https://localhost:8080/",
          "height": 34
        },
        "outputId": "a2525d72-fbdb-4132-ddfe-6884df10b4f9"
      },
      "source": [
        "!pip install -q git+https://github.com/tensorflow/docs"
      ],
      "execution_count": 56,
      "outputs": [
        {
          "output_type": "stream",
          "text": [
            "  Building wheel for tensorflow-docs (setup.py) ... \u001b[?25l\u001b[?25hdone\n"
          ],
          "name": "stdout"
        }
      ]
    },
    {
      "cell_type": "code",
      "metadata": {
        "id": "gle1y1F1dbKk",
        "colab_type": "code",
        "colab": {
          "base_uri": "https://localhost:8080/",
          "height": 1000
        },
        "outputId": "11d56874-7f82-43c2-cce9-0e864d9195c4"
      },
      "source": [
        "import tensorflow_docs as tfdocs\n",
        "import tensorflow_docs.modeling\n",
        "\n",
        "\n",
        "tf.get_logger().setLevel(\"ERROR\")\n",
        "\n",
        "print(\"Strategy Num Replicas\", num_replicas)\n",
        "\n",
        "if tpu:\n",
        "  BATCH_SIZE = 64 * num_replicas\n",
        "  print(\"Batch Size TPU: \",BATCH_SIZE)\n",
        "else:\n",
        "  BATCH_SIZE = 512\n",
        "\n",
        "EPOCHS = 50\n",
        "\n",
        "early_stop = keras.callbacks.EarlyStopping(monitor='val_loss')\n",
        "\n",
        "simpleRNN_history = simpleRNN_model.fit(x_train_pad, y_train, \n",
        "               epochs=EPOCHS, \n",
        "               batch_size=BATCH_SIZE,\n",
        "               validation_data=(x_valid_pad, y_valid),\n",
        "               verbose = 1,\n",
        "               callbacks=[early_stop, tfdocs.modeling.EpochDots()])"
      ],
      "execution_count": 57,
      "outputs": [
        {
          "output_type": "stream",
          "text": [
            "Strategy Num Replicas 8\n",
            "Batch Size TPU:  512\n",
            "Epoch 1/50\n",
            "12/12 [==============================] - ETA: 0s - loss: 0.7375 - accuracy: 0.4785\n",
            "Epoch: 0, accuracy:0.4785,  loss:0.7375,  val_accuracy:0.4813,  val_loss:0.7295,  \n",
            "12/12 [==============================] - 27s 2s/step - loss: 0.7375 - accuracy: 0.4785 - val_loss: 0.7295 - val_accuracy: 0.4813\n",
            "Epoch 2/50\n",
            "12/12 [==============================] - 27s 2s/step - loss: 0.7175 - accuracy: 0.5049 - val_loss: 0.7099 - val_accuracy: 0.5246\n",
            "Epoch 3/50\n",
            "12/12 [==============================] - 27s 2s/step - loss: 0.6998 - accuracy: 0.5320 - val_loss: 0.6958 - val_accuracy: 0.5404\n",
            "Epoch 4/50\n",
            "12/12 [==============================] - 29s 2s/step - loss: 0.6870 - accuracy: 0.5591 - val_loss: 0.6859 - val_accuracy: 0.5634\n",
            "Epoch 5/50\n",
            "12/12 [==============================] - 27s 2s/step - loss: 0.6780 - accuracy: 0.5741 - val_loss: 0.6786 - val_accuracy: 0.5811\n",
            "Epoch 6/50\n",
            "12/12 [==============================] - 27s 2s/step - loss: 0.6715 - accuracy: 0.5926 - val_loss: 0.6731 - val_accuracy: 0.5890\n",
            "Epoch 7/50\n",
            "12/12 [==============================] - 27s 2s/step - loss: 0.6665 - accuracy: 0.5977 - val_loss: 0.6690 - val_accuracy: 0.5909\n",
            "Epoch 8/50\n",
            "12/12 [==============================] - 27s 2s/step - loss: 0.6625 - accuracy: 0.6053 - val_loss: 0.6656 - val_accuracy: 0.5962\n",
            "Epoch 9/50\n",
            "12/12 [==============================] - 27s 2s/step - loss: 0.6593 - accuracy: 0.6102 - val_loss: 0.6628 - val_accuracy: 0.5955\n",
            "Epoch 10/50\n",
            "12/12 [==============================] - 28s 2s/step - loss: 0.6566 - accuracy: 0.6144 - val_loss: 0.6603 - val_accuracy: 0.6008\n",
            "Epoch 11/50\n",
            "12/12 [==============================] - 26s 2s/step - loss: 0.6543 - accuracy: 0.6176 - val_loss: 0.6581 - val_accuracy: 0.6041\n",
            "Epoch 12/50\n",
            "12/12 [==============================] - 28s 2s/step - loss: 0.6520 - accuracy: 0.6210 - val_loss: 0.6560 - val_accuracy: 0.6093\n",
            "Epoch 13/50\n",
            "12/12 [==============================] - 28s 2s/step - loss: 0.6500 - accuracy: 0.6235 - val_loss: 0.6541 - val_accuracy: 0.6126\n",
            "Epoch 14/50\n",
            "12/12 [==============================] - 29s 2s/step - loss: 0.6481 - accuracy: 0.6256 - val_loss: 0.6522 - val_accuracy: 0.6185\n",
            "Epoch 15/50\n",
            "12/12 [==============================] - 28s 2s/step - loss: 0.6462 - accuracy: 0.6291 - val_loss: 0.6504 - val_accuracy: 0.6211\n",
            "Epoch 16/50\n",
            "12/12 [==============================] - 28s 2s/step - loss: 0.6443 - accuracy: 0.6337 - val_loss: 0.6486 - val_accuracy: 0.6251\n",
            "Epoch 17/50\n",
            "12/12 [==============================] - 27s 2s/step - loss: 0.6425 - accuracy: 0.6345 - val_loss: 0.6468 - val_accuracy: 0.6225\n",
            "Epoch 18/50\n",
            "12/12 [==============================] - 27s 2s/step - loss: 0.6407 - accuracy: 0.6361 - val_loss: 0.6450 - val_accuracy: 0.6271\n",
            "Epoch 19/50\n",
            "12/12 [==============================] - 29s 2s/step - loss: 0.6388 - accuracy: 0.6379 - val_loss: 0.6432 - val_accuracy: 0.6323\n",
            "Epoch 20/50\n",
            "12/12 [==============================] - 28s 2s/step - loss: 0.6370 - accuracy: 0.6414 - val_loss: 0.6414 - val_accuracy: 0.6323\n",
            "Epoch 21/50\n",
            "12/12 [==============================] - 28s 2s/step - loss: 0.6351 - accuracy: 0.6440 - val_loss: 0.6395 - val_accuracy: 0.6343\n",
            "Epoch 22/50\n",
            "12/12 [==============================] - 27s 2s/step - loss: 0.6332 - accuracy: 0.6476 - val_loss: 0.6376 - val_accuracy: 0.6395\n",
            "Epoch 23/50\n",
            "12/12 [==============================] - 27s 2s/step - loss: 0.6312 - accuracy: 0.6509 - val_loss: 0.6357 - val_accuracy: 0.6428\n",
            "Epoch 24/50\n",
            "12/12 [==============================] - 28s 2s/step - loss: 0.6293 - accuracy: 0.6527 - val_loss: 0.6337 - val_accuracy: 0.6454\n",
            "Epoch 25/50\n",
            "12/12 [==============================] - 30s 2s/step - loss: 0.6272 - accuracy: 0.6570 - val_loss: 0.6317 - val_accuracy: 0.6500\n",
            "Epoch 26/50\n",
            "12/12 [==============================] - 28s 2s/step - loss: 0.6251 - accuracy: 0.6617 - val_loss: 0.6296 - val_accuracy: 0.6559\n",
            "Epoch 27/50\n",
            "12/12 [==============================] - 27s 2s/step - loss: 0.6229 - accuracy: 0.6632 - val_loss: 0.6274 - val_accuracy: 0.6592\n",
            "Epoch 28/50\n",
            "12/12 [==============================] - 29s 2s/step - loss: 0.6207 - accuracy: 0.6658 - val_loss: 0.6252 - val_accuracy: 0.6599\n",
            "Epoch 29/50\n",
            "12/12 [==============================] - 28s 2s/step - loss: 0.6184 - accuracy: 0.6685 - val_loss: 0.6228 - val_accuracy: 0.6638\n",
            "Epoch 30/50\n",
            "12/12 [==============================] - 27s 2s/step - loss: 0.6160 - accuracy: 0.6714 - val_loss: 0.6204 - val_accuracy: 0.6697\n",
            "Epoch 31/50\n",
            "12/12 [==============================] - 29s 2s/step - loss: 0.6134 - accuracy: 0.6755 - val_loss: 0.6180 - val_accuracy: 0.6770\n",
            "Epoch 32/50\n",
            "12/12 [==============================] - 28s 2s/step - loss: 0.6108 - accuracy: 0.6813 - val_loss: 0.6153 - val_accuracy: 0.6829\n",
            "Epoch 33/50\n",
            "12/12 [==============================] - 28s 2s/step - loss: 0.6081 - accuracy: 0.6857 - val_loss: 0.6125 - val_accuracy: 0.6848\n",
            "Epoch 34/50\n",
            "12/12 [==============================] - 27s 2s/step - loss: 0.6053 - accuracy: 0.6867 - val_loss: 0.6097 - val_accuracy: 0.6861\n",
            "Epoch 35/50\n",
            "12/12 [==============================] - 29s 2s/step - loss: 0.6023 - accuracy: 0.6900 - val_loss: 0.6067 - val_accuracy: 0.6894\n",
            "Epoch 36/50\n",
            "12/12 [==============================] - 27s 2s/step - loss: 0.5992 - accuracy: 0.6926 - val_loss: 0.6036 - val_accuracy: 0.6960\n",
            "Epoch 37/50\n",
            "12/12 [==============================] - 27s 2s/step - loss: 0.5959 - accuracy: 0.6952 - val_loss: 0.6003 - val_accuracy: 0.6973\n",
            "Epoch 38/50\n",
            "12/12 [==============================] - 27s 2s/step - loss: 0.5925 - accuracy: 0.6998 - val_loss: 0.5970 - val_accuracy: 0.6973\n",
            "Epoch 39/50\n",
            "12/12 [==============================] - 27s 2s/step - loss: 0.5891 - accuracy: 0.7043 - val_loss: 0.5934 - val_accuracy: 0.7006\n",
            "Epoch 40/50\n",
            "12/12 [==============================] - 27s 2s/step - loss: 0.5854 - accuracy: 0.7092 - val_loss: 0.5899 - val_accuracy: 0.7111\n",
            "Epoch 41/50\n",
            "12/12 [==============================] - 28s 2s/step - loss: 0.5816 - accuracy: 0.7122 - val_loss: 0.5861 - val_accuracy: 0.7131\n",
            "Epoch 42/50\n",
            "12/12 [==============================] - 28s 2s/step - loss: 0.5778 - accuracy: 0.7166 - val_loss: 0.5823 - val_accuracy: 0.7196\n",
            "Epoch 43/50\n",
            "12/12 [==============================] - 27s 2s/step - loss: 0.5738 - accuracy: 0.7199 - val_loss: 0.5785 - val_accuracy: 0.7236\n",
            "Epoch 44/50\n",
            "12/12 [==============================] - 27s 2s/step - loss: 0.5697 - accuracy: 0.7230 - val_loss: 0.5745 - val_accuracy: 0.7249\n",
            "Epoch 45/50\n",
            "12/12 [==============================] - 28s 2s/step - loss: 0.5656 - accuracy: 0.7276 - val_loss: 0.5705 - val_accuracy: 0.7269\n",
            "Epoch 46/50\n",
            "12/12 [==============================] - 27s 2s/step - loss: 0.5616 - accuracy: 0.7305 - val_loss: 0.5666 - val_accuracy: 0.7328\n",
            "Epoch 47/50\n",
            "12/12 [==============================] - 28s 2s/step - loss: 0.5575 - accuracy: 0.7358 - val_loss: 0.5625 - val_accuracy: 0.7354\n",
            "Epoch 48/50\n",
            "12/12 [==============================] - 28s 2s/step - loss: 0.5534 - accuracy: 0.7383 - val_loss: 0.5587 - val_accuracy: 0.7347\n",
            "Epoch 49/50\n",
            "12/12 [==============================] - 29s 2s/step - loss: 0.5494 - accuracy: 0.7397 - val_loss: 0.5549 - val_accuracy: 0.7420\n",
            "Epoch 50/50\n",
            "12/12 [==============================] - 26s 2s/step - loss: 0.5455 - accuracy: 0.7443 - val_loss: 0.5509 - val_accuracy: 0.7466\n"
          ],
          "name": "stdout"
        }
      ]
    },
    {
      "cell_type": "code",
      "metadata": {
        "id": "1WwT45GzdeuS",
        "colab_type": "code",
        "colab": {}
      },
      "source": [
        "import pickle\n",
        "\n",
        "simpleRNN_model.save('simpleRNN_model.h5')\n",
        "\n",
        "with open('rnn_tokenizer.pickle', 'wb') as handle:\n",
        "    pickle.dump(rnn_token, handle, protocol=pickle.HIGHEST_PROTOCOL)"
      ],
      "execution_count": 58,
      "outputs": []
    },
    {
      "cell_type": "code",
      "metadata": {
        "id": "CW8gQOdzdfRx",
        "colab_type": "code",
        "colab": {
          "base_uri": "https://localhost:8080/",
          "height": 359
        },
        "outputId": "cd0a2f84-972d-4fd2-88c6-c82666f9f882"
      },
      "source": [
        "import pandas as pd\n",
        "\n",
        "simpleRNN_hist = pd.DataFrame(simpleRNN_history.history)\n",
        "simpleRNN_hist['epoch'] = simpleRNN_history.epoch\n",
        "simpleRNN_hist.head(10)"
      ],
      "execution_count": 59,
      "outputs": [
        {
          "output_type": "execute_result",
          "data": {
            "text/html": [
              "<div>\n",
              "<style scoped>\n",
              "    .dataframe tbody tr th:only-of-type {\n",
              "        vertical-align: middle;\n",
              "    }\n",
              "\n",
              "    .dataframe tbody tr th {\n",
              "        vertical-align: top;\n",
              "    }\n",
              "\n",
              "    .dataframe thead th {\n",
              "        text-align: right;\n",
              "    }\n",
              "</style>\n",
              "<table border=\"1\" class=\"dataframe\">\n",
              "  <thead>\n",
              "    <tr style=\"text-align: right;\">\n",
              "      <th></th>\n",
              "      <th>loss</th>\n",
              "      <th>accuracy</th>\n",
              "      <th>val_loss</th>\n",
              "      <th>val_accuracy</th>\n",
              "      <th>epoch</th>\n",
              "    </tr>\n",
              "  </thead>\n",
              "  <tbody>\n",
              "    <tr>\n",
              "      <th>0</th>\n",
              "      <td>0.737522</td>\n",
              "      <td>0.478489</td>\n",
              "      <td>0.729533</td>\n",
              "      <td>0.481287</td>\n",
              "      <td>0</td>\n",
              "    </tr>\n",
              "    <tr>\n",
              "      <th>1</th>\n",
              "      <td>0.717471</td>\n",
              "      <td>0.504926</td>\n",
              "      <td>0.709931</td>\n",
              "      <td>0.524622</td>\n",
              "      <td>1</td>\n",
              "    </tr>\n",
              "    <tr>\n",
              "      <th>2</th>\n",
              "      <td>0.699805</td>\n",
              "      <td>0.532020</td>\n",
              "      <td>0.695778</td>\n",
              "      <td>0.540381</td>\n",
              "      <td>2</td>\n",
              "    </tr>\n",
              "    <tr>\n",
              "      <th>3</th>\n",
              "      <td>0.686994</td>\n",
              "      <td>0.559113</td>\n",
              "      <td>0.685877</td>\n",
              "      <td>0.563362</td>\n",
              "      <td>3</td>\n",
              "    </tr>\n",
              "    <tr>\n",
              "      <th>4</th>\n",
              "      <td>0.678031</td>\n",
              "      <td>0.574056</td>\n",
              "      <td>0.678613</td>\n",
              "      <td>0.581090</td>\n",
              "      <td>4</td>\n",
              "    </tr>\n",
              "    <tr>\n",
              "      <th>5</th>\n",
              "      <td>0.671539</td>\n",
              "      <td>0.592611</td>\n",
              "      <td>0.673123</td>\n",
              "      <td>0.588969</td>\n",
              "      <td>5</td>\n",
              "    </tr>\n",
              "    <tr>\n",
              "      <th>6</th>\n",
              "      <td>0.666493</td>\n",
              "      <td>0.597701</td>\n",
              "      <td>0.668976</td>\n",
              "      <td>0.590939</td>\n",
              "      <td>6</td>\n",
              "    </tr>\n",
              "    <tr>\n",
              "      <th>7</th>\n",
              "      <td>0.662508</td>\n",
              "      <td>0.605255</td>\n",
              "      <td>0.665605</td>\n",
              "      <td>0.596192</td>\n",
              "      <td>7</td>\n",
              "    </tr>\n",
              "    <tr>\n",
              "      <th>8</th>\n",
              "      <td>0.659336</td>\n",
              "      <td>0.610181</td>\n",
              "      <td>0.662772</td>\n",
              "      <td>0.595535</td>\n",
              "      <td>8</td>\n",
              "    </tr>\n",
              "    <tr>\n",
              "      <th>9</th>\n",
              "      <td>0.656611</td>\n",
              "      <td>0.614450</td>\n",
              "      <td>0.660319</td>\n",
              "      <td>0.600788</td>\n",
              "      <td>9</td>\n",
              "    </tr>\n",
              "  </tbody>\n",
              "</table>\n",
              "</div>"
            ],
            "text/plain": [
              "       loss  accuracy  val_loss  val_accuracy  epoch\n",
              "0  0.737522  0.478489  0.729533      0.481287      0\n",
              "1  0.717471  0.504926  0.709931      0.524622      1\n",
              "2  0.699805  0.532020  0.695778      0.540381      2\n",
              "3  0.686994  0.559113  0.685877      0.563362      3\n",
              "4  0.678031  0.574056  0.678613      0.581090      4\n",
              "5  0.671539  0.592611  0.673123      0.588969      5\n",
              "6  0.666493  0.597701  0.668976      0.590939      6\n",
              "7  0.662508  0.605255  0.665605      0.596192      7\n",
              "8  0.659336  0.610181  0.662772      0.595535      8\n",
              "9  0.656611  0.614450  0.660319      0.600788      9"
            ]
          },
          "metadata": {
            "tags": []
          },
          "execution_count": 59
        }
      ]
    },
    {
      "cell_type": "code",
      "metadata": {
        "id": "NwksPyeXdgwa",
        "colab_type": "code",
        "colab": {
          "base_uri": "https://localhost:8080/",
          "height": 51
        },
        "outputId": "8644dbbd-617a-4b06-e86d-990814c8cdc5"
      },
      "source": [
        "# test data for test_accuracy\n",
        "loss, accuracy = simpleRNN_model.evaluate(x_train_pad, y_train, verbose=False)\n",
        "print(\"SimpleRNN Training Accuracy: {:.4f} %\".format(accuracy*100))\n",
        "\n",
        "val_loss, val_accuracy = simpleRNN_model.evaluate(x_valid_pad, y_valid, verbose=False)\n",
        "print(\"SimpleRNN Validation Accuracy:  {:.4f} %\".format(val_accuracy*100))"
      ],
      "execution_count": 60,
      "outputs": [
        {
          "output_type": "stream",
          "text": [
            "SimpleRNN Training Accuracy: 74.5320 %\n",
            "SimpleRNN Validation Accuracy:  74.6553 %\n"
          ],
          "name": "stdout"
        }
      ]
    },
    {
      "cell_type": "code",
      "metadata": {
        "id": "x3GrqcF0dlNT",
        "colab_type": "code",
        "colab": {
          "base_uri": "https://localhost:8080/",
          "height": 509
        },
        "outputId": "afd34082-d58e-476b-a33b-c5e1a9727458"
      },
      "source": [
        "import matplotlib.pyplot as plt\n",
        "\n",
        "epochs_range = range(EPOCHS)\n",
        "# epochs_range = range(20)\n",
        "\n",
        "fig=plt.figure(figsize=(12, 8))\n",
        "\n",
        "epochs = range(len(simpleRNN_history.epoch))\n",
        "\n",
        "plt.subplot(1, 2, 1)\n",
        "plt.plot(epochs, simpleRNN_history.history['accuracy'], label='Training Accuracy', color='mediumvioletred')\n",
        "plt.plot(epochs, simpleRNN_history.history['val_accuracy'], label='Validation Accuracy', color='darkcyan')\n",
        "plt.xlabel('Epochs')\n",
        "plt.ylabel('Accuracy')\n",
        "# plt.ylim([min(plt.ylim()),1])\n",
        "plt.legend()\n",
        "plt.grid(True)\n",
        "plt.title('Training and Validation Accuracy')\n",
        "\n",
        "\n",
        "plt.subplot(1, 2, 2)\n",
        "plt.plot(epochs, simpleRNN_history.history['loss'], label='Training Loss')\n",
        "plt.plot(epochs, simpleRNN_history.history['val_loss'], label='Validation Loss')\n",
        "plt.xlabel('Epochs')\n",
        "plt.ylabel('Loss')\n",
        "plt.legend()\n",
        "plt.grid(True)\n",
        "plt.title('Training and Validation Loss')\n",
        "plt.show()\n",
        "fig.savefig('simpleRNN_traininghistory.pdf')"
      ],
      "execution_count": 61,
      "outputs": [
        {
          "output_type": "display_data",
          "data": {
            "image/png": "[encoded data removed]",
            "text/plain": [
              "<Figure size 864x576 with 2 Axes>"
            ]
          },
          "metadata": {
            "tags": []
          }
        }
      ]
    },
    {
      "cell_type": "code",
      "metadata": {
        "id": "tONeJkjA4J05",
        "colab_type": "code",
        "colab": {
          "base_uri": "https://localhost:8080/",
          "height": 204
        },
        "outputId": "b27f6853-0105-4d55-a4da-b88416f1bc76"
      },
      "source": [
        "from sklearn.metrics import accuracy_score, precision_score, recall_score, f1_score, roc_auc_score, confusion_matrix, roc_curve\n",
        "\n",
        "from sklearn.metrics import classification_report,confusion_matrix\n",
        "y_pred = simpleRNN_model.predict(x_valid_pad, verbose=0)\n",
        "y_pred_classes = simpleRNN_model.predict_classes(x_valid_pad, verbose=0)\n",
        "\n",
        "y_pred = y_pred[:,0]\n",
        "y_pred_classes = y_pred_classes[:,0]\n",
        "\n",
        "rnn_report = classification_report(y_valid, y_pred_classes)\n",
        "rnn_report1 = classification_report(y_valid, y_pred_classes, output_dict=True)\n",
        "print('Classification Report of SimpleRNN Model:\\n',rnn_report,'\\n')\n",
        "accuracy_scores.append(rnn_report1['accuracy'])\n",
        "precision_scores.append(rnn_report1['weighted avg']['precision'])\n",
        "recall_scores.append(rnn_report1['weighted avg']['recall'])\n",
        "f1_scores.append(rnn_report1['weighted avg']['f1-score'])"
      ],
      "execution_count": 102,
      "outputs": [
        {
          "output_type": "stream",
          "text": [
            "Classification Report of SimpleRNN Model:\n",
            "               precision    recall  f1-score   support\n",
            "\n",
            "           0       0.76      0.81      0.79       869\n",
            "           1       0.72      0.66      0.69       654\n",
            "\n",
            "    accuracy                           0.75      1523\n",
            "   macro avg       0.74      0.74      0.74      1523\n",
            "weighted avg       0.75      0.75      0.74      1523\n",
            " \n",
            "\n"
          ],
          "name": "stdout"
        }
      ]
    },
    {
      "cell_type": "code",
      "metadata": {
        "id": "3_ezVhObgyd5",
        "colab_type": "code",
        "colab": {
          "base_uri": "https://localhost:8080/",
          "height": 51
        },
        "outputId": "36cdc896-66d8-4a4b-a5de-408d9e9f1925"
      },
      "source": [
        "labels = ['Disaster', 'Non-Disaster']\n",
        "\n",
        "rnn_cm = confusion_matrix(y_valid, y_pred_classes)\n",
        "print(rnn_cm)"
      ],
      "execution_count": 166,
      "outputs": [
        {
          "output_type": "stream",
          "text": [
            "[[705 164]\n",
            " [222 432]]\n"
          ],
          "name": "stdout"
        }
      ]
    },
    {
      "cell_type": "code",
      "metadata": {
        "id": "-EQFhEo0hi4g",
        "colab_type": "code",
        "colab": {
          "base_uri": "https://localhost:8080/",
          "height": 296
        },
        "outputId": "822152fb-566d-4e89-ce97-cd0b70f47b39"
      },
      "source": [
        "def plot_confusion_matrices(cm):\n",
        "  fig = plt.figure()\n",
        "  ax = fig.add_subplot(111)\n",
        "  im = ax.imshow(cm, interpolation='nearest')\n",
        "  cax = ax.matshow(cm)\n",
        "  fig.colorbar(cax)\n",
        "\n",
        "  ax.set(xticks=np.arange(cm.shape[1]), yticks=np.arange(cm.shape[0]), xticklabels=labels, yticklabels=labels, ylabel='True label', xlabel='Predicted label')\n",
        "  thresh = cm.max() / 2.\n",
        "  for i in range(cm.shape[0]):\n",
        "      for j in range(cm.shape[1]):\n",
        "          ax.text(j, i, format(cm[i, j]),\n",
        "                  ha=\"center\", va=\"center\",\n",
        "                  color=\"white\" if cm[i, j] < thresh else \"black\")\n",
        "  plt.grid(None)\n",
        "  plt.title(\"Confusion Matrix for Simple RNN \\n\")\n",
        "  plt.savefig(\"cm_simple_rnn.pdf\")\n",
        "  plt.show()\n",
        "\n",
        "plot_confusion_matrices(rnn_cm)"
      ],
      "execution_count": 184,
      "outputs": [
        {
          "output_type": "display_data",
          "data": {
            "image/png": "[encoded data removed]",
            "text/plain": [
              "<Figure size 432x288 with 2 Axes>"
            ]
          },
          "metadata": {
            "tags": []
          }
        }
      ]
    },
    {
      "cell_type": "code",
      "metadata": {
        "id": "ULk52dOxaX5O",
        "colab_type": "code",
        "colab": {
          "base_uri": "https://localhost:8080/",
          "height": 292
        },
        "outputId": "e506580c-157d-4176-f349-17fe902405f1"
      },
      "source": [
        "lw = 2\n",
        "n_classes = 2\n",
        "\n",
        "fpr = dict()\n",
        "tpr = dict()\n",
        "roc_auc = dict()\n",
        "\n",
        "y_pred_classes = simpleRNN_model.predict_classes(x_valid_pad)[:,0]\n",
        "\n",
        "for i in range(n_classes):\n",
        "    fpr[i], tpr[i], _ = roc_curve(y_valid, y_pred_classes)\n",
        "    roc_auc[i] = roc_auc_score(y_valid, y_pred_classes)\n",
        "\n",
        "all_fpr = np.unique(np.concatenate([fpr[i] for i in range(n_classes)]))\n",
        "\n",
        "\n",
        "mean_tpr = np.zeros_like(all_fpr)\n",
        "for i in range(n_classes):\n",
        "    mean_tpr += interp(all_fpr, fpr[i], tpr[i])\n",
        "\n",
        "plt.plot(fpr[0], tpr[0], color='navy', lw=lw, linestyle=':', linewidth=4, label='ROC curve of class 0 (area = {1:0.2f})' ''.format(0, roc_auc[0]))\n",
        "plt.plot(fpr[1], tpr[1], color='darkorange', lw=lw, label='ROC curve of class 1 (area = {1:0.2f})' ''.format(1, roc_auc[1]))\n",
        "\n",
        "plt.plot([0, 1], [0, 1], 'k--', lw=lw)\n",
        "plt.xlim([0.0, 1.0])\n",
        "plt.ylim([0.0, 1.05])\n",
        "plt.xlabel('False Positive Rate')\n",
        "plt.ylabel('True Positive Rate')\n",
        "plt.title('ROC Curve for Simple RNN')\n",
        "plt.legend(loc=\"lower right\")\n",
        "plt.savefig(\"roc_simple_rnn.pdf\")\n",
        "plt.show()"
      ],
      "execution_count": 185,
      "outputs": [
        {
          "output_type": "display_data",
          "data": {
            "image/png": "[encoded data removed]",
            "text/plain": [
              "<Figure size 432x288 with 1 Axes>"
            ]
          },
          "metadata": {
            "tags": []
          }
        }
      ]
    },
    {
      "cell_type": "markdown",
      "metadata": {
        "id": "plWjg0Kmm1wp",
        "colab_type": "text"
      },
      "source": [
        "#LSTM Model"
      ]
    },
    {
      "cell_type": "code",
      "metadata": {
        "id": "TCTDFYfJEL-o",
        "colab_type": "code",
        "colab": {}
      },
      "source": [
        "from sklearn.feature_extraction.text import CountVectorizer, TfidfVectorizer\n",
        "from sklearn.model_selection import train_test_split\n",
        "\n",
        "x_train, x_valid, y_train, y_valid = train_test_split(train_data['text'].values, train_data['target'].values, \n",
        "                                                  stratify=train_data['target'].values, \n",
        "                                                  random_state=42, \n",
        "                                                  test_size=0.2, shuffle=True)\n"
      ],
      "execution_count": 186,
      "outputs": []
    },
    {
      "cell_type": "code",
      "metadata": {
        "id": "vicLSZ9e2jXq",
        "colab_type": "code",
        "colab": {}
      },
      "source": [
        "from keras.preprocessing import sequence, text\n",
        "\n",
        "lstm_token = text.Tokenizer(num_words=None)\n",
        "max_len = 1500\n",
        "\n",
        "\n",
        "lstm_token.fit_on_texts(list(x_train) + list(x_valid))\n",
        "x_train_seq = lstm_token.texts_to_sequences(x_train)\n",
        "x_valid_seq = lstm_token.texts_to_sequences(x_valid)\n",
        "\n",
        "#zero pad the sequences\n",
        "x_train_pad = sequence.pad_sequences(x_train_seq, maxlen=max_len)\n",
        "x_valid_pad = sequence.pad_sequences(x_valid_seq, maxlen=max_len)\n",
        "\n",
        "word_index = lstm_token.word_index"
      ],
      "execution_count": 187,
      "outputs": []
    },
    {
      "cell_type": "code",
      "metadata": {
        "id": "UwK5unUmc0Wr",
        "colab_type": "code",
        "colab": {
          "base_uri": "https://localhost:8080/",
          "height": 34
        },
        "outputId": "6934c566-fb9a-4db4-85c6-306516566f5c"
      },
      "source": [
        "embedding_matrix = np.zeros((len(word_index) + 1, 300))\n",
        "for word, i in tqdm(word_index.items()):\n",
        "    embedding_vector = embeddings_index.get(word)\n",
        "    if embedding_vector is not None:\n",
        "        embedding_matrix[i] = embedding_vector"
      ],
      "execution_count": 188,
      "outputs": [
        {
          "output_type": "stream",
          "text": [
            "100%|██████████| 22700/22700 [00:00<00:00, 174547.69it/s]\n"
          ],
          "name": "stderr"
        }
      ]
    },
    {
      "cell_type": "markdown",
      "metadata": {
        "id": "eHHc-H67hXvv",
        "colab_type": "text"
      },
      "source": [
        "#LSTM Model"
      ]
    },
    {
      "cell_type": "code",
      "metadata": {
        "id": "errxv6zGCPnp",
        "colab_type": "code",
        "colab": {
          "base_uri": "https://localhost:8080/",
          "height": 34
        },
        "outputId": "efbc8053-437a-4bf1-83ab-8a9f97ba5086"
      },
      "source": [
        "import keras\n",
        "from keras.layers import LSTM, Embedding, Dense, Dropout, SpatialDropout1D, GRU, Activation\n",
        "from keras.initializers import Constant\n",
        "from keras import optimizers\n",
        "from keras.optimizers import Adam, SGD, RMSprop\n",
        "\n",
        "num_words = len(word_index) + 1\n",
        "print(\"num_words:\", num_words)\n",
        "\n",
        "def build_lstm_model():\n",
        "  model = keras.Sequential()\n",
        "  model.add(Embedding(len(word_index)+1, 300, weights=[embedding_matrix], input_length=max_len, trainable=False))\n",
        "  model.add(LSTM(100, dropout=0.3, recurrent_dropout=0.3))\n",
        "  model.add(Dense(1, activation=tf.nn.sigmoid))\n",
        "  sgd = optimizers.SGD(lr=0.01, decay=1e-6, momentum=0.9, nesterov=True)\n",
        "  model.compile(loss='binary_crossentropy', optimizer=sgd, metrics=['accuracy'])\n",
        "  return model"
      ],
      "execution_count": 189,
      "outputs": [
        {
          "output_type": "stream",
          "text": [
            "num_words: 22701\n"
          ],
          "name": "stdout"
        }
      ]
    },
    {
      "cell_type": "code",
      "metadata": {
        "id": "czxjeCrcGoLu",
        "colab_type": "code",
        "colab": {
          "base_uri": "https://localhost:8080/",
          "height": 255
        },
        "outputId": "c05f7d1d-f508-42d5-c9bd-7a4c1f7eb5f6"
      },
      "source": [
        "lstm_model = build_lstm_model()\n",
        "lstm_model.summary()"
      ],
      "execution_count": 190,
      "outputs": [
        {
          "output_type": "stream",
          "text": [
            "Model: \"sequential_4\"\n",
            "_________________________________________________________________\n",
            "Layer (type)                 Output Shape              Param #   \n",
            "=================================================================\n",
            "embedding_4 (Embedding)      (None, 1500, 300)         6810300   \n",
            "_________________________________________________________________\n",
            "lstm (LSTM)                  (None, 100)               160400    \n",
            "_________________________________________________________________\n",
            "dense_4 (Dense)              (None, 1)                 101       \n",
            "=================================================================\n",
            "Total params: 6,970,801\n",
            "Trainable params: 160,501\n",
            "Non-trainable params: 6,810,300\n",
            "_________________________________________________________________\n"
          ],
          "name": "stdout"
        }
      ]
    },
    {
      "cell_type": "code",
      "metadata": {
        "id": "y_WdguecHGYG",
        "colab_type": "code",
        "colab": {
          "base_uri": "https://localhost:8080/",
          "height": 1000
        },
        "outputId": "4213b031-5476-48fc-aea7-62c0bec35b5e"
      },
      "source": [
        "tf.get_logger().setLevel(\"ERROR\")\n",
        "\n",
        "print(\"Strategy Num Replicas\", num_replicas)\n",
        "\n",
        "if tpu:\n",
        "  BATCH_SIZE = 64 * num_replicas\n",
        "  print(\"Batch Size TPU: \",BATCH_SIZE)\n",
        "else:\n",
        "  BATCH_SIZE = 512\n",
        "\n",
        "EPOCHS = 50\n",
        "\n",
        "lstm_history = lstm_model.fit(x_train_pad, y_train, #y_train\n",
        "               epochs=EPOCHS, \n",
        "               batch_size=BATCH_SIZE,\n",
        "               validation_data=(x_valid_pad, y_valid), #y_valid\n",
        "               verbose = 1)\n"
      ],
      "execution_count": 191,
      "outputs": [
        {
          "output_type": "stream",
          "text": [
            "Strategy Num Replicas 8\n",
            "Batch Size TPU:  512\n",
            "Epoch 1/50\n",
            "12/12 [==============================] - 73s 6s/step - loss: 0.7081 - accuracy: 0.4622 - val_loss: 0.6772 - val_accuracy: 0.5699\n",
            "Epoch 2/50\n",
            "12/12 [==============================] - 71s 6s/step - loss: 0.6668 - accuracy: 0.5726 - val_loss: 0.6521 - val_accuracy: 0.5732\n",
            "Epoch 3/50\n",
            "12/12 [==============================] - 71s 6s/step - loss: 0.6480 - accuracy: 0.6186 - val_loss: 0.6370 - val_accuracy: 0.6559\n",
            "Epoch 4/50\n",
            "12/12 [==============================] - 71s 6s/step - loss: 0.6369 - accuracy: 0.6448 - val_loss: 0.6280 - val_accuracy: 0.6474\n",
            "Epoch 5/50\n",
            "12/12 [==============================] - 72s 6s/step - loss: 0.6301 - accuracy: 0.6522 - val_loss: 0.6191 - val_accuracy: 0.6520\n",
            "Epoch 6/50\n",
            "12/12 [==============================] - 71s 6s/step - loss: 0.6243 - accuracy: 0.6598 - val_loss: 0.6089 - val_accuracy: 0.6717\n",
            "Epoch 7/50\n",
            "12/12 [==============================] - 71s 6s/step - loss: 0.6126 - accuracy: 0.6793 - val_loss: 0.5952 - val_accuracy: 0.6927\n",
            "Epoch 8/50\n",
            "12/12 [==============================] - 71s 6s/step - loss: 0.6009 - accuracy: 0.6933 - val_loss: 0.5761 - val_accuracy: 0.7216\n",
            "Epoch 9/50\n",
            "12/12 [==============================] - 71s 6s/step - loss: 0.5849 - accuracy: 0.7156 - val_loss: 0.5490 - val_accuracy: 0.7584\n",
            "Epoch 10/50\n",
            "12/12 [==============================] - 72s 6s/step - loss: 0.5589 - accuracy: 0.7461 - val_loss: 0.5117 - val_accuracy: 0.7840\n",
            "Epoch 11/50\n",
            "12/12 [==============================] - 71s 6s/step - loss: 0.5245 - accuracy: 0.7635 - val_loss: 0.4747 - val_accuracy: 0.7932\n",
            "Epoch 12/50\n",
            "12/12 [==============================] - 71s 6s/step - loss: 0.5023 - accuracy: 0.7652 - val_loss: 0.4557 - val_accuracy: 0.7984\n",
            "Epoch 13/50\n",
            "12/12 [==============================] - 71s 6s/step - loss: 0.4867 - accuracy: 0.7783 - val_loss: 0.4489 - val_accuracy: 0.8056\n",
            "Epoch 14/50\n",
            "12/12 [==============================] - 72s 6s/step - loss: 0.4720 - accuracy: 0.7874 - val_loss: 0.4385 - val_accuracy: 0.8142\n",
            "Epoch 15/50\n",
            "12/12 [==============================] - 71s 6s/step - loss: 0.4596 - accuracy: 0.7934 - val_loss: 0.4331 - val_accuracy: 0.8116\n",
            "Epoch 16/50\n",
            "12/12 [==============================] - 71s 6s/step - loss: 0.4575 - accuracy: 0.7987 - val_loss: 0.4279 - val_accuracy: 0.8201\n",
            "Epoch 17/50\n",
            "12/12 [==============================] - 71s 6s/step - loss: 0.4482 - accuracy: 0.8026 - val_loss: 0.4250 - val_accuracy: 0.8194\n",
            "Epoch 18/50\n",
            "12/12 [==============================] - 71s 6s/step - loss: 0.4445 - accuracy: 0.8031 - val_loss: 0.4226 - val_accuracy: 0.8194\n",
            "Epoch 19/50\n",
            "12/12 [==============================] - 71s 6s/step - loss: 0.4451 - accuracy: 0.7997 - val_loss: 0.4279 - val_accuracy: 0.8234\n",
            "Epoch 20/50\n",
            "12/12 [==============================] - 71s 6s/step - loss: 0.4391 - accuracy: 0.7998 - val_loss: 0.4183 - val_accuracy: 0.8162\n",
            "Epoch 21/50\n",
            "12/12 [==============================] - 71s 6s/step - loss: 0.4374 - accuracy: 0.8080 - val_loss: 0.4161 - val_accuracy: 0.8234\n",
            "Epoch 22/50\n",
            "12/12 [==============================] - 71s 6s/step - loss: 0.4366 - accuracy: 0.8039 - val_loss: 0.4204 - val_accuracy: 0.8253\n",
            "Epoch 23/50\n",
            "12/12 [==============================] - 71s 6s/step - loss: 0.4313 - accuracy: 0.8046 - val_loss: 0.4124 - val_accuracy: 0.8247\n",
            "Epoch 24/50\n",
            "12/12 [==============================] - 72s 6s/step - loss: 0.4316 - accuracy: 0.8076 - val_loss: 0.4118 - val_accuracy: 0.8240\n",
            "Epoch 25/50\n",
            "12/12 [==============================] - 71s 6s/step - loss: 0.4303 - accuracy: 0.8089 - val_loss: 0.4105 - val_accuracy: 0.8234\n",
            "Epoch 26/50\n",
            "12/12 [==============================] - 71s 6s/step - loss: 0.4292 - accuracy: 0.8120 - val_loss: 0.4092 - val_accuracy: 0.8267\n",
            "Epoch 27/50\n",
            "12/12 [==============================] - 72s 6s/step - loss: 0.4312 - accuracy: 0.8080 - val_loss: 0.4108 - val_accuracy: 0.8280\n",
            "Epoch 28/50\n",
            "12/12 [==============================] - 71s 6s/step - loss: 0.4238 - accuracy: 0.8122 - val_loss: 0.4067 - val_accuracy: 0.8221\n",
            "Epoch 29/50\n",
            "12/12 [==============================] - 71s 6s/step - loss: 0.4223 - accuracy: 0.8118 - val_loss: 0.4084 - val_accuracy: 0.8207\n",
            "Epoch 30/50\n",
            "12/12 [==============================] - 71s 6s/step - loss: 0.4240 - accuracy: 0.8108 - val_loss: 0.4064 - val_accuracy: 0.8201\n",
            "Epoch 31/50\n",
            "12/12 [==============================] - 72s 6s/step - loss: 0.4197 - accuracy: 0.8130 - val_loss: 0.4042 - val_accuracy: 0.8286\n",
            "Epoch 32/50\n",
            "12/12 [==============================] - 72s 6s/step - loss: 0.4192 - accuracy: 0.8166 - val_loss: 0.4025 - val_accuracy: 0.8214\n",
            "Epoch 33/50\n",
            "12/12 [==============================] - 71s 6s/step - loss: 0.4174 - accuracy: 0.8159 - val_loss: 0.4052 - val_accuracy: 0.8234\n",
            "Epoch 34/50\n",
            "12/12 [==============================] - 71s 6s/step - loss: 0.4164 - accuracy: 0.8100 - val_loss: 0.4030 - val_accuracy: 0.8306\n",
            "Epoch 35/50\n",
            "12/12 [==============================] - 71s 6s/step - loss: 0.4199 - accuracy: 0.8123 - val_loss: 0.4008 - val_accuracy: 0.8214\n",
            "Epoch 36/50\n",
            "12/12 [==============================] - 72s 6s/step - loss: 0.4148 - accuracy: 0.8163 - val_loss: 0.4037 - val_accuracy: 0.8293\n",
            "Epoch 37/50\n",
            "12/12 [==============================] - 71s 6s/step - loss: 0.4188 - accuracy: 0.8158 - val_loss: 0.4034 - val_accuracy: 0.8280\n",
            "Epoch 38/50\n",
            "12/12 [==============================] - 70s 6s/step - loss: 0.4116 - accuracy: 0.8205 - val_loss: 0.4087 - val_accuracy: 0.8280\n",
            "Epoch 39/50\n",
            "12/12 [==============================] - 71s 6s/step - loss: 0.4172 - accuracy: 0.8143 - val_loss: 0.4026 - val_accuracy: 0.8313\n",
            "Epoch 40/50\n",
            "12/12 [==============================] - 72s 6s/step - loss: 0.4153 - accuracy: 0.8195 - val_loss: 0.3986 - val_accuracy: 0.8273\n",
            "Epoch 41/50\n",
            "12/12 [==============================] - 71s 6s/step - loss: 0.4092 - accuracy: 0.8202 - val_loss: 0.4095 - val_accuracy: 0.8253\n",
            "Epoch 42/50\n",
            "12/12 [==============================] - 71s 6s/step - loss: 0.4175 - accuracy: 0.8143 - val_loss: 0.3998 - val_accuracy: 0.8247\n",
            "Epoch 43/50\n",
            "12/12 [==============================] - 71s 6s/step - loss: 0.4103 - accuracy: 0.8194 - val_loss: 0.3993 - val_accuracy: 0.8227\n",
            "Epoch 44/50\n",
            "12/12 [==============================] - 71s 6s/step - loss: 0.4115 - accuracy: 0.8176 - val_loss: 0.4028 - val_accuracy: 0.8267\n",
            "Epoch 45/50\n",
            "12/12 [==============================] - 71s 6s/step - loss: 0.4085 - accuracy: 0.8190 - val_loss: 0.3983 - val_accuracy: 0.8273\n",
            "Epoch 46/50\n",
            "12/12 [==============================] - 71s 6s/step - loss: 0.4121 - accuracy: 0.8189 - val_loss: 0.4021 - val_accuracy: 0.8273\n",
            "Epoch 47/50\n",
            "12/12 [==============================] - 71s 6s/step - loss: 0.4098 - accuracy: 0.8192 - val_loss: 0.3973 - val_accuracy: 0.8319\n",
            "Epoch 48/50\n",
            "12/12 [==============================] - 71s 6s/step - loss: 0.4095 - accuracy: 0.8194 - val_loss: 0.3977 - val_accuracy: 0.8293\n",
            "Epoch 49/50\n",
            "12/12 [==============================] - 72s 6s/step - loss: 0.4065 - accuracy: 0.8248 - val_loss: 0.3966 - val_accuracy: 0.8313\n",
            "Epoch 50/50\n",
            "12/12 [==============================] - 72s 6s/step - loss: 0.4096 - accuracy: 0.8186 - val_loss: 0.3965 - val_accuracy: 0.8273\n"
          ],
          "name": "stdout"
        }
      ]
    },
    {
      "cell_type": "code",
      "metadata": {
        "id": "_9VVkLybjfPV",
        "colab_type": "code",
        "colab": {}
      },
      "source": [
        "import pickle\n",
        "\n",
        "lstm_model.save('lstm_model.h5')\n",
        "\n",
        "with open('lstm_tokenizer.pickle', 'wb') as handle:\n",
        "    pickle.dump(lstm_token, handle, protocol=pickle.HIGHEST_PROTOCOL)"
      ],
      "execution_count": 212,
      "outputs": []
    },
    {
      "cell_type": "code",
      "metadata": {
        "id": "Y7hFedKaEZ8S",
        "colab_type": "code",
        "colab": {
          "base_uri": "https://localhost:8080/",
          "height": 359
        },
        "outputId": "3d5e4c80-edfa-4a5a-bde9-95d88ec4d569"
      },
      "source": [
        "import pandas as pd\n",
        "\n",
        "lstm_hist = pd.DataFrame(lstm_history.history)\n",
        "lstm_hist['epoch'] = lstm_history.epoch\n",
        "lstm_hist.head(10)"
      ],
      "execution_count": 213,
      "outputs": [
        {
          "output_type": "execute_result",
          "data": {
            "text/html": [
              "<div>\n",
              "<style scoped>\n",
              "    .dataframe tbody tr th:only-of-type {\n",
              "        vertical-align: middle;\n",
              "    }\n",
              "\n",
              "    .dataframe tbody tr th {\n",
              "        vertical-align: top;\n",
              "    }\n",
              "\n",
              "    .dataframe thead th {\n",
              "        text-align: right;\n",
              "    }\n",
              "</style>\n",
              "<table border=\"1\" class=\"dataframe\">\n",
              "  <thead>\n",
              "    <tr style=\"text-align: right;\">\n",
              "      <th></th>\n",
              "      <th>loss</th>\n",
              "      <th>accuracy</th>\n",
              "      <th>val_loss</th>\n",
              "      <th>val_accuracy</th>\n",
              "      <th>epoch</th>\n",
              "    </tr>\n",
              "  </thead>\n",
              "  <tbody>\n",
              "    <tr>\n",
              "      <th>0</th>\n",
              "      <td>0.708122</td>\n",
              "      <td>0.462233</td>\n",
              "      <td>0.677198</td>\n",
              "      <td>0.569928</td>\n",
              "      <td>0</td>\n",
              "    </tr>\n",
              "    <tr>\n",
              "      <th>1</th>\n",
              "      <td>0.666775</td>\n",
              "      <td>0.572578</td>\n",
              "      <td>0.652131</td>\n",
              "      <td>0.573211</td>\n",
              "      <td>1</td>\n",
              "    </tr>\n",
              "    <tr>\n",
              "      <th>2</th>\n",
              "      <td>0.647985</td>\n",
              "      <td>0.618555</td>\n",
              "      <td>0.637013</td>\n",
              "      <td>0.655942</td>\n",
              "      <td>2</td>\n",
              "    </tr>\n",
              "    <tr>\n",
              "      <th>3</th>\n",
              "      <td>0.636890</td>\n",
              "      <td>0.644828</td>\n",
              "      <td>0.628001</td>\n",
              "      <td>0.647406</td>\n",
              "      <td>3</td>\n",
              "    </tr>\n",
              "    <tr>\n",
              "      <th>4</th>\n",
              "      <td>0.630065</td>\n",
              "      <td>0.652217</td>\n",
              "      <td>0.619136</td>\n",
              "      <td>0.652003</td>\n",
              "      <td>4</td>\n",
              "    </tr>\n",
              "    <tr>\n",
              "      <th>5</th>\n",
              "      <td>0.624330</td>\n",
              "      <td>0.659770</td>\n",
              "      <td>0.608867</td>\n",
              "      <td>0.671701</td>\n",
              "      <td>5</td>\n",
              "    </tr>\n",
              "    <tr>\n",
              "      <th>6</th>\n",
              "      <td>0.612604</td>\n",
              "      <td>0.679310</td>\n",
              "      <td>0.595157</td>\n",
              "      <td>0.692712</td>\n",
              "      <td>6</td>\n",
              "    </tr>\n",
              "    <tr>\n",
              "      <th>7</th>\n",
              "      <td>0.600881</td>\n",
              "      <td>0.693268</td>\n",
              "      <td>0.576118</td>\n",
              "      <td>0.721602</td>\n",
              "      <td>7</td>\n",
              "    </tr>\n",
              "    <tr>\n",
              "      <th>8</th>\n",
              "      <td>0.584853</td>\n",
              "      <td>0.715599</td>\n",
              "      <td>0.549041</td>\n",
              "      <td>0.758372</td>\n",
              "      <td>8</td>\n",
              "    </tr>\n",
              "    <tr>\n",
              "      <th>9</th>\n",
              "      <td>0.558863</td>\n",
              "      <td>0.746141</td>\n",
              "      <td>0.511709</td>\n",
              "      <td>0.783979</td>\n",
              "      <td>9</td>\n",
              "    </tr>\n",
              "  </tbody>\n",
              "</table>\n",
              "</div>"
            ],
            "text/plain": [
              "       loss  accuracy  val_loss  val_accuracy  epoch\n",
              "0  0.708122  0.462233  0.677198      0.569928      0\n",
              "1  0.666775  0.572578  0.652131      0.573211      1\n",
              "2  0.647985  0.618555  0.637013      0.655942      2\n",
              "3  0.636890  0.644828  0.628001      0.647406      3\n",
              "4  0.630065  0.652217  0.619136      0.652003      4\n",
              "5  0.624330  0.659770  0.608867      0.671701      5\n",
              "6  0.612604  0.679310  0.595157      0.692712      6\n",
              "7  0.600881  0.693268  0.576118      0.721602      7\n",
              "8  0.584853  0.715599  0.549041      0.758372      8\n",
              "9  0.558863  0.746141  0.511709      0.783979      9"
            ]
          },
          "metadata": {
            "tags": []
          },
          "execution_count": 213
        }
      ]
    },
    {
      "cell_type": "code",
      "metadata": {
        "id": "hxCHaHPVNLe5",
        "colab_type": "code",
        "colab": {
          "base_uri": "https://localhost:8080/",
          "height": 51
        },
        "outputId": "c18c4f30-8d32-4daf-cfbc-18119e69d0ea"
      },
      "source": [
        "# test data for test_accuracy\n",
        "loss, accuracy = lstm_model.evaluate(x_train_pad, y_train, verbose=False)\n",
        "print(\"LSTM Training Accuracy: {:.4f} %\".format(accuracy*100))\n",
        "\n",
        "val_loss, val_accuracy = lstm_model.evaluate(x_valid_pad, y_valid, verbose=False)\n",
        "print(\"LSTM Validation Accuracy:  {:.4f} %\".format(val_accuracy*100))\n"
      ],
      "execution_count": 214,
      "outputs": [
        {
          "output_type": "stream",
          "text": [
            "LSTM Training Accuracy: 83.2184 %\n",
            "LSTM Validation Accuracy:  82.7314 %\n"
          ],
          "name": "stdout"
        }
      ]
    },
    {
      "cell_type": "code",
      "metadata": {
        "id": "gNwhFw8RfNqp",
        "colab_type": "code",
        "colab": {
          "base_uri": "https://localhost:8080/",
          "height": 509
        },
        "outputId": "c6a88635-f937-48d1-d364-17a58eceb9a9"
      },
      "source": [
        "import matplotlib.pyplot as plt\n",
        "\n",
        "epochs_range = range(EPOCHS)\n",
        "# epochs_range = range(20)\n",
        "\n",
        "fig=plt.figure(figsize=(12, 8))\n",
        "\n",
        "plt.subplot(1, 2, 1)\n",
        "plt.plot(epochs_range, lstm_history.history['accuracy'], label='Training Accuracy', color='mediumvioletred')\n",
        "plt.plot(epochs_range, lstm_history.history['val_accuracy'], label='Validation Accuracy', color='darkcyan')\n",
        "plt.xlabel('Epochs')\n",
        "plt.ylabel('Accuracy')\n",
        "# plt.ylim([min(plt.ylim()),1])\n",
        "plt.legend()\n",
        "plt.grid(True)\n",
        "plt.title('Training and Validation Accuracy')\n",
        "\n",
        "\n",
        "plt.subplot(1, 2, 2)\n",
        "plt.plot(epochs_range, lstm_history.history['loss'], label='Training Loss')\n",
        "plt.plot(epochs_range, lstm_history.history['val_loss'], label='Validation Loss')\n",
        "plt.xlabel('Epochs')\n",
        "plt.ylabel('Loss')\n",
        "plt.legend()\n",
        "plt.grid(True)\n",
        "plt.title('Training and Validation Loss')\n",
        "plt.show()\n",
        "fig.savefig('lstm_traininghistory.pdf')"
      ],
      "execution_count": 215,
      "outputs": [
        {
          "output_type": "display_data",
          "data": {
            "image/png": "[encoded data removed]",
            "text/plain": [
              "<Figure size 864x576 with 2 Axes>"
            ]
          },
          "metadata": {
            "tags": []
          }
        }
      ]
    },
    {
      "cell_type": "code",
      "metadata": {
        "id": "vD1rqo4vS3r1",
        "colab_type": "code",
        "colab": {}
      },
      "source": [
        "# from sklearn.metrics import accuracy_score, precision_score, recall_score, f1_score, roc_auc_score, confusion_matrix, roc_curve\n",
        "\n",
        "# y_pred = lstm_model.predict(x_valid_pad, verbose=0)\n",
        "# y_pred_classes = lstm_model.predict_classes(x_valid_pad, verbose=0)\n",
        "\n",
        "# y_pred = y_pred[:,0]\n",
        "# y_pred_classes = y_pred_classes[:,0]\n",
        "\n",
        "# lstm_accuracy = accuracy_score(y_valid, y_pred_classes)\n",
        "# print('Accuracy: %f' % lstm_accuracy)\n",
        "\n",
        "# # precision tp / (tp + fp)\n",
        "# lstm_precision = precision_score(y_valid, y_pred_classes)\n",
        "# print('Precision: %f' % lstm_precision)\n",
        "\n",
        "# # recall: tp / (tp + fn)\n",
        "# lstm_recall = recall_score(y_valid, y_pred_classes)\n",
        "# print('Recall: %f' % lstm_recall)\n",
        "\n",
        "# # f1: 2 tp / (2 tp + fp + fn)\n",
        "# lstm_f1 = f1_score(y_valid, y_pred_classes)\n",
        "# print('F1 score: %f' % lstm_f1)\n",
        "\n",
        "# #area under roc\n",
        "# lstm_auc = roc_auc_score(y_valid, y_pred)\n",
        "# print('Area under ROC (auc)' % lstm_auc)\n",
        "\n",
        "# # confusion matrix\n",
        "# matrix = confusion_matrix(y_valid, y_pred_classes)\n",
        "# print(matrix)\n",
        "\n",
        "\n",
        "# # y_pred1 = model.predict_proba(x_valid_pad)\n",
        "# # print(\"roc evaluated with scikit = \",roc_curve(y_valid, y_pred))"
      ],
      "execution_count": 201,
      "outputs": []
    },
    {
      "cell_type": "code",
      "metadata": {
        "id": "bofZV2svXgZS",
        "colab_type": "code",
        "colab": {}
      },
      "source": [
        "# from sklearn.metrics import classification_report,confusion_matrix\n",
        "# y_pred = lstm_model.predict(x_valid_pad, verbose=0)\n",
        "# y_pred_classes = lstm_model.predict_classes(x_valid_pad, verbose=0)\n",
        "\n",
        "# y_pred = y_pred[:,0]\n",
        "# y_pred_classes = y_pred_classes[:,0]\n",
        "\n",
        "# print('  Classification Report:\\n',classification_report(y_valid, y_pred_classes),'\\n')"
      ],
      "execution_count": 202,
      "outputs": []
    },
    {
      "cell_type": "code",
      "metadata": {
        "colab_type": "code",
        "id": "O8Ax_nR752EV",
        "colab": {
          "base_uri": "https://localhost:8080/",
          "height": 204
        },
        "outputId": "248ac1be-f197-4eac-9f18-357e9b4737b3"
      },
      "source": [
        "from sklearn.metrics import accuracy_score, precision_score, recall_score, f1_score, roc_auc_score, confusion_matrix, roc_curve\n",
        "\n",
        "from sklearn.metrics import classification_report,confusion_matrix\n",
        "y_pred = lstm_model.predict(x_valid_pad, verbose=0)\n",
        "y_pred_classes_lstm = lstm_model.predict_classes(x_valid_pad, verbose=0)\n",
        "\n",
        "y_pred = y_pred[:,0]\n",
        "y_pred_classes_lstm = y_pred_classes_lstm[:,0]\n",
        "\n",
        "lstm_report = classification_report(y_valid, y_pred_classes_lstm)\n",
        "lstm_report1 = classification_report(y_valid, y_pred_classes_lstm, output_dict=True)\n",
        "print('Classification Report of LSTM Model:\\n',lstm_report,'\\n')\n",
        "accuracy_scores.append(lstm_report1['accuracy'])\n",
        "precision_scores.append(lstm_report1['weighted avg']['precision'])\n",
        "recall_scores.append(lstm_report1['weighted avg']['recall'])\n",
        "f1_scores.append(lstm_report1['weighted avg']['f1-score'])"
      ],
      "execution_count": 216,
      "outputs": [
        {
          "output_type": "stream",
          "text": [
            "Classification Report of LSTM Model:\n",
            "               precision    recall  f1-score   support\n",
            "\n",
            "           0       0.82      0.90      0.86       869\n",
            "           1       0.84      0.73      0.78       654\n",
            "\n",
            "    accuracy                           0.83      1523\n",
            "   macro avg       0.83      0.82      0.82      1523\n",
            "weighted avg       0.83      0.83      0.83      1523\n",
            " \n",
            "\n"
          ],
          "name": "stdout"
        }
      ]
    },
    {
      "cell_type": "code",
      "metadata": {
        "colab_type": "code",
        "id": "dxUiZq2P52Ed",
        "colab": {
          "base_uri": "https://localhost:8080/",
          "height": 51
        },
        "outputId": "518f377c-4432-4dd8-c5ee-5c426807dcc2"
      },
      "source": [
        "labels = ['Disaster', 'Non-Disaster']\n",
        "\n",
        "lstm_cm = confusion_matrix(y_valid, y_pred_classes_lstm)\n",
        "print(lstm_cm)"
      ],
      "execution_count": 217,
      "outputs": [
        {
          "output_type": "stream",
          "text": [
            "[[781  88]\n",
            " [175 479]]\n"
          ],
          "name": "stdout"
        }
      ]
    },
    {
      "cell_type": "code",
      "metadata": {
        "colab_type": "code",
        "id": "_Nm6RkXC52Eg",
        "colab": {
          "base_uri": "https://localhost:8080/",
          "height": 296
        },
        "outputId": "8679b01b-7141-4aa7-b470-e415c4c25257"
      },
      "source": [
        "def plot_confusion_matrices(cm):\n",
        "  fig = plt.figure()\n",
        "  ax = fig.add_subplot(111)\n",
        "  im = ax.imshow(cm, interpolation='nearest')\n",
        "  cax = ax.matshow(cm)\n",
        "  fig.colorbar(cax)\n",
        "\n",
        "  ax.set(xticks=np.arange(cm.shape[1]), yticks=np.arange(cm.shape[0]), xticklabels=labels, yticklabels=labels, ylabel='True label', xlabel='Predicted label')\n",
        "  thresh = cm.max() / 2.\n",
        "  for i in range(cm.shape[0]):\n",
        "      for j in range(cm.shape[1]):\n",
        "          ax.text(j, i, format(cm[i, j]),\n",
        "                  ha=\"center\", va=\"center\",\n",
        "                  color=\"white\" if cm[i, j] < thresh else \"black\")\n",
        "  plt.grid(None)\n",
        "  plt.title(\"Confusion Matrix for LSTM\\n\")\n",
        "  plt.savefig(\"cm_simple_rnn.pdf\")\n",
        "  plt.show()\n",
        "\n",
        "plot_confusion_matrices(lstm_cm)"
      ],
      "execution_count": 218,
      "outputs": [
        {
          "output_type": "display_data",
          "data": {
            "image/png": "[encoded data removed]",
            "text/plain": [
              "<Figure size 432x288 with 2 Axes>"
            ]
          },
          "metadata": {
            "tags": []
          }
        }
      ]
    },
    {
      "cell_type": "code",
      "metadata": {
        "colab_type": "code",
        "id": "CJiLn5pf52Ei",
        "colab": {
          "base_uri": "https://localhost:8080/",
          "height": 292
        },
        "outputId": "ca3322df-eb06-4609-a29a-a2499ac8f898"
      },
      "source": [
        "lw = 2\n",
        "n_classes = 2\n",
        "\n",
        "fpr = dict()\n",
        "tpr = dict()\n",
        "roc_auc = dict()\n",
        "\n",
        "y_pred_classes = lstm_model.predict_classes(x_valid_pad)[:,0]\n",
        "\n",
        "for i in range(n_classes):\n",
        "    fpr[i], tpr[i], _ = roc_curve(y_valid, y_pred_classes_lstm)\n",
        "    roc_auc[i] = roc_auc_score(y_valid, y_pred_classes_lstm)\n",
        "\n",
        "all_fpr = np.unique(np.concatenate([fpr[i] for i in range(n_classes)]))\n",
        "\n",
        "\n",
        "mean_tpr = np.zeros_like(all_fpr)\n",
        "for i in range(n_classes):\n",
        "    mean_tpr += interp(all_fpr, fpr[i], tpr[i])\n",
        "\n",
        "plt.plot(fpr[0], tpr[0], color='navy', lw=lw, linestyle=':', linewidth=4, label='ROC curve of class 0 (area = {1:0.2f})' ''.format(0, roc_auc[0]))\n",
        "plt.plot(fpr[1], tpr[1], color='darkorange', lw=lw, label='ROC curve of class 1 (area = {1:0.2f})' ''.format(1, roc_auc[1]))\n",
        "\n",
        "plt.plot([0, 1], [0, 1], 'k--', lw=lw)\n",
        "plt.xlim([0.0, 1.0])\n",
        "plt.ylim([0.0, 1.05])\n",
        "plt.xlabel('False Positive Rate')\n",
        "plt.ylabel('True Positive Rate')\n",
        "plt.title('ROC Curve for LSTM')\n",
        "plt.legend(loc=\"lower right\")\n",
        "plt.savefig(\"roc_lstm.pdf\")\n",
        "plt.show()"
      ],
      "execution_count": 220,
      "outputs": [
        {
          "output_type": "display_data",
          "data": {
            "image/png": "[encoded data removed]",
            "text/plain": [
              "<Figure size 432x288 with 1 Axes>"
            ]
          },
          "metadata": {
            "tags": []
          }
        }
      ]
    },
    {
      "cell_type": "code",
      "metadata": {
        "id": "UWeYxhQVZVm-",
        "colab_type": "code",
        "colab": {
          "base_uri": "https://localhost:8080/",
          "height": 187
        },
        "outputId": "5ff9ee9d-32b2-4fa0-db49-34f58641bd48"
      },
      "source": [
        "from keras.preprocessing import sequence, text\n",
        "from keras.models import model_from_json, load_model\n",
        "\n",
        "txt=test_data['text'][:10]\n",
        "\n",
        "with open('lstm_tokenizer.pickle', 'rb') as handle:\n",
        "    loaded_tokenizer = pickle.load(handle)\n",
        "\n",
        "loaded_model = load_model('lstm_model.h5')\n",
        "\n",
        "for i in txt:\n",
        "  seq= loaded_tokenizer.texts_to_sequences([i])\n",
        "  padded = sequence.pad_sequences(seq, maxlen=max_len)\n",
        "  pred = loaded_model.predict_classes(padded)\n",
        "  print(i, \":\", pred)"
      ],
      "execution_count": 222,
      "outputs": [
        {
          "output_type": "stream",
          "text": [
            "Just happened a terrible car crash : [[1]]\n",
            "Heard about #earthquake is different cities, stay safe everyone. : [[1]]\n",
            "there is a forest fire at spot pond, geese are fleeing across the street, I cannot save them all : [[1]]\n",
            "Apocalypse lighting. #Spokane #wildfires : [[1]]\n",
            "Typhoon Soudelor kills 28 in China and Taiwan : [[1]]\n",
            "We're shaking...It's an earthquake : [[0]]\n",
            "They'd probably still show more life than Arsenal did yesterday, eh? EH? : [[0]]\n",
            "Hey! How are you? : [[0]]\n",
            "What a nice hat? : [[0]]\n",
            "Fuck off! : [[0]]\n"
          ],
          "name": "stdout"
        }
      ]
    },
    {
      "cell_type": "code",
      "metadata": {
        "id": "2uIa99oYTVO6",
        "colab_type": "code",
        "colab": {}
      },
      "source": [
        "lstm_model.save_weights('lstm_model.h5')\n",
        "\n",
        "with open('lstm_model_arch.json', 'w') as f:\n",
        "    f.write(lstm_model.to_json())\n"
      ],
      "execution_count": 223,
      "outputs": []
    },
    {
      "cell_type": "code",
      "metadata": {
        "id": "D-CJHlyAW3P0",
        "colab_type": "code",
        "colab": {}
      },
      "source": [
        "with open('lstm_model_arch.json', 'r') as f:\n",
        "    new_lstm_model_1 = model_from_json(f.read())\n",
        "\n",
        "new_lstm_model_1.load_weights('lstm_model.h5')"
      ],
      "execution_count": 224,
      "outputs": []
    },
    {
      "cell_type": "code",
      "metadata": {
        "id": "KBSRtDqqXvag",
        "colab_type": "code",
        "colab": {
          "base_uri": "https://localhost:8080/",
          "height": 122
        },
        "outputId": "2d9adb91-3f1d-424f-c510-d3f93a4c5d84"
      },
      "source": [
        "i = \"Just happened a terrible plane crash\"\n",
        "j = \"How are you\"\n",
        "\n",
        "txt=test_data['text'][21:26]\n",
        "\n",
        "for j in txt:\n",
        "  seq= loaded_tokenizer.texts_to_sequences([j])\n",
        "  padded = sequence.pad_sequences(seq, maxlen=max_len)\n",
        "  pred = new_lstm_model_1.predict_classes(padded)\n",
        "  print(j, \":\", pred)"
      ],
      "execution_count": 227,
      "outputs": [
        {
          "output_type": "stream",
          "text": [
            "Burning Man Ablaze! by Turban Diva http://t.co/hodWosAmWS via @Etsy : [[1]]\n",
            "Not a diss song. People will take 1 thing and run with it. Smh it's an eye opener though. He is about 2 set the game ablaze @CyhiThePrynce : [[0]]\n",
            "Rape victim dies as she sets herself ablaze: A 16-year-old girl died of burn injuries as she set herself ablazeÛ_ http://t.co/UK8hNrbOob : [[1]]\n",
            "SETTING MYSELF ABLAZE http://t.co/6vMe7P5XhC : [[0]]\n",
            "@CTVToronto the bins in front of the field by my house wer set ablaze the other day flames went rite up the hydro pole wonder if it was him : [[0]]\n"
          ],
          "name": "stdout"
        }
      ]
    },
    {
      "cell_type": "markdown",
      "metadata": {
        "id": "hmZ3TQ3rTndT",
        "colab_type": "text"
      },
      "source": [
        "#References"
      ]
    },
    {
      "cell_type": "code",
      "metadata": {
        "id": "DWSN5OpUTJz0",
        "colab_type": "code",
        "colab": {}
      },
      "source": [
        "# https://www.kaggle.com/sagaramu/nlp-disaster-adding-features-and-visualization\n",
        "# https://www.kaggle.com/teyang/twitter-disaster-eda-clean-feature-engineer\n",
        "# https://towardsdatascience.com/sentiment-analysis-with-python-part-2-4f71e7bde59a\n",
        "# https://github.com/samiramunir/Simple-Sentiment-Analysis-using-NLTK/blob/master/Sentiment_Analysis.ipynb\n",
        "# https://www.kaggle.com/tanulsingh077/deep-learning-for-nlp-zero-to-transformers-bert\n"
      ],
      "execution_count": null,
      "outputs": []
    }
  ]
}